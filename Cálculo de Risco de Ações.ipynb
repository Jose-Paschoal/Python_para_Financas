{
 "cells": [
  {
   "cell_type": "markdown",
   "metadata": {},
   "source": [
    "# Terceiro Cap. - Cálculo de Risco de Ações"
   ]
  },
  {
   "cell_type": "code",
   "execution_count": 1,
   "metadata": {},
   "outputs": [],
   "source": [
    "import pandas as pd\n",
    "import numpy as np\n",
    "import math\n",
    "import matplotlib.pyplot as plt\n",
    "import seaborn as sns\n",
    "from scipy import stats"
   ]
  },
  {
   "cell_type": "code",
   "execution_count": 2,
   "metadata": {},
   "outputs": [],
   "source": [
    "df = pd.read_csv('acoes.csv')"
   ]
  },
  {
   "cell_type": "code",
   "execution_count": 3,
   "metadata": {},
   "outputs": [
    {
     "data": {
      "text/html": [
       "<div>\n",
       "<style scoped>\n",
       "    .dataframe tbody tr th:only-of-type {\n",
       "        vertical-align: middle;\n",
       "    }\n",
       "\n",
       "    .dataframe tbody tr th {\n",
       "        vertical-align: top;\n",
       "    }\n",
       "\n",
       "    .dataframe thead th {\n",
       "        text-align: right;\n",
       "    }\n",
       "</style>\n",
       "<table border=\"1\" class=\"dataframe\">\n",
       "  <thead>\n",
       "    <tr style=\"text-align: right;\">\n",
       "      <th></th>\n",
       "      <th>Date</th>\n",
       "      <th>GOL</th>\n",
       "      <th>CVC</th>\n",
       "      <th>WEG</th>\n",
       "      <th>MGLU</th>\n",
       "      <th>TOTS</th>\n",
       "      <th>BOVA</th>\n",
       "    </tr>\n",
       "  </thead>\n",
       "  <tbody>\n",
       "    <tr>\n",
       "      <th>0</th>\n",
       "      <td>2015-01-02</td>\n",
       "      <td>14.990000</td>\n",
       "      <td>15.200000</td>\n",
       "      <td>5.923076</td>\n",
       "      <td>0.232812</td>\n",
       "      <td>11.910702</td>\n",
       "      <td>47.259998</td>\n",
       "    </tr>\n",
       "    <tr>\n",
       "      <th>1</th>\n",
       "      <td>2015-01-05</td>\n",
       "      <td>14.850000</td>\n",
       "      <td>15.000000</td>\n",
       "      <td>5.963461</td>\n",
       "      <td>0.237187</td>\n",
       "      <td>11.544731</td>\n",
       "      <td>46.320000</td>\n",
       "    </tr>\n",
       "    <tr>\n",
       "      <th>2</th>\n",
       "      <td>2015-01-06</td>\n",
       "      <td>15.210000</td>\n",
       "      <td>14.800000</td>\n",
       "      <td>5.875000</td>\n",
       "      <td>0.234062</td>\n",
       "      <td>10.822770</td>\n",
       "      <td>46.580002</td>\n",
       "    </tr>\n",
       "    <tr>\n",
       "      <th>3</th>\n",
       "      <td>2015-01-07</td>\n",
       "      <td>14.550000</td>\n",
       "      <td>14.670000</td>\n",
       "      <td>5.807692</td>\n",
       "      <td>0.241875</td>\n",
       "      <td>10.746248</td>\n",
       "      <td>48.150002</td>\n",
       "    </tr>\n",
       "    <tr>\n",
       "      <th>4</th>\n",
       "      <td>2015-01-08</td>\n",
       "      <td>14.270000</td>\n",
       "      <td>14.150000</td>\n",
       "      <td>5.905769</td>\n",
       "      <td>0.240000</td>\n",
       "      <td>10.995774</td>\n",
       "      <td>48.509998</td>\n",
       "    </tr>\n",
       "    <tr>\n",
       "      <th>...</th>\n",
       "      <td>...</td>\n",
       "      <td>...</td>\n",
       "      <td>...</td>\n",
       "      <td>...</td>\n",
       "      <td>...</td>\n",
       "      <td>...</td>\n",
       "      <td>...</td>\n",
       "    </tr>\n",
       "    <tr>\n",
       "      <th>1688</th>\n",
       "      <td>2021-10-25</td>\n",
       "      <td>17.200001</td>\n",
       "      <td>18.150000</td>\n",
       "      <td>39.549999</td>\n",
       "      <td>12.340000</td>\n",
       "      <td>33.380001</td>\n",
       "      <td>104.550003</td>\n",
       "    </tr>\n",
       "    <tr>\n",
       "      <th>1689</th>\n",
       "      <td>2021-10-26</td>\n",
       "      <td>16.180000</td>\n",
       "      <td>16.910000</td>\n",
       "      <td>39.660000</td>\n",
       "      <td>11.980000</td>\n",
       "      <td>33.400002</td>\n",
       "      <td>102.250000</td>\n",
       "    </tr>\n",
       "    <tr>\n",
       "      <th>1690</th>\n",
       "      <td>2021-10-27</td>\n",
       "      <td>15.890000</td>\n",
       "      <td>16.590000</td>\n",
       "      <td>39.200001</td>\n",
       "      <td>11.600000</td>\n",
       "      <td>33.200001</td>\n",
       "      <td>102.400002</td>\n",
       "    </tr>\n",
       "    <tr>\n",
       "      <th>1691</th>\n",
       "      <td>2021-10-28</td>\n",
       "      <td>15.740000</td>\n",
       "      <td>16.530001</td>\n",
       "      <td>37.830002</td>\n",
       "      <td>11.150000</td>\n",
       "      <td>32.910000</td>\n",
       "      <td>100.610001</td>\n",
       "    </tr>\n",
       "    <tr>\n",
       "      <th>1692</th>\n",
       "      <td>2021-10-29</td>\n",
       "      <td>15.180000</td>\n",
       "      <td>15.970000</td>\n",
       "      <td>37.000000</td>\n",
       "      <td>10.810000</td>\n",
       "      <td>32.759998</td>\n",
       "      <td>99.680000</td>\n",
       "    </tr>\n",
       "  </tbody>\n",
       "</table>\n",
       "<p>1693 rows × 7 columns</p>\n",
       "</div>"
      ],
      "text/plain": [
       "            Date        GOL        CVC        WEG       MGLU       TOTS  \\\n",
       "0     2015-01-02  14.990000  15.200000   5.923076   0.232812  11.910702   \n",
       "1     2015-01-05  14.850000  15.000000   5.963461   0.237187  11.544731   \n",
       "2     2015-01-06  15.210000  14.800000   5.875000   0.234062  10.822770   \n",
       "3     2015-01-07  14.550000  14.670000   5.807692   0.241875  10.746248   \n",
       "4     2015-01-08  14.270000  14.150000   5.905769   0.240000  10.995774   \n",
       "...          ...        ...        ...        ...        ...        ...   \n",
       "1688  2021-10-25  17.200001  18.150000  39.549999  12.340000  33.380001   \n",
       "1689  2021-10-26  16.180000  16.910000  39.660000  11.980000  33.400002   \n",
       "1690  2021-10-27  15.890000  16.590000  39.200001  11.600000  33.200001   \n",
       "1691  2021-10-28  15.740000  16.530001  37.830002  11.150000  32.910000   \n",
       "1692  2021-10-29  15.180000  15.970000  37.000000  10.810000  32.759998   \n",
       "\n",
       "            BOVA  \n",
       "0      47.259998  \n",
       "1      46.320000  \n",
       "2      46.580002  \n",
       "3      48.150002  \n",
       "4      48.509998  \n",
       "...          ...  \n",
       "1688  104.550003  \n",
       "1689  102.250000  \n",
       "1690  102.400002  \n",
       "1691  100.610001  \n",
       "1692   99.680000  \n",
       "\n",
       "[1693 rows x 7 columns]"
      ]
     },
     "execution_count": 3,
     "metadata": {},
     "output_type": "execute_result"
    }
   ],
   "source": [
    "df"
   ]
  },
  {
   "cell_type": "markdown",
   "metadata": {},
   "source": [
    "## Cálculo de retornos anuais"
   ]
  },
  {
   "cell_type": "markdown",
   "metadata": {},
   "source": [
    "### 2015"
   ]
  },
  {
   "cell_type": "code",
   "execution_count": 4,
   "metadata": {},
   "outputs": [
    {
     "data": {
      "text/plain": [
       "(0    15.2\n",
       " Name: CVC, dtype: float64,\n",
       " 245    13.5\n",
       " Name: CVC, dtype: float64)"
      ]
     },
     "execution_count": 4,
     "metadata": {},
     "output_type": "execute_result"
    }
   ],
   "source": [
    "# será feito cálculo de duas ações para checar a taxa de retorno ao longo dos anos\n",
    "\n",
    "df['CVC'][df['Date'] == '2015-01-02'], df['CVC'][df['Date'] == '2015-12-30']"
   ]
  },
  {
   "cell_type": "code",
   "execution_count": 5,
   "metadata": {},
   "outputs": [
    {
     "data": {
      "text/plain": [
       "-11.86057424078469"
      ]
     },
     "execution_count": 5,
     "metadata": {},
     "output_type": "execute_result"
    }
   ],
   "source": [
    "# cálculo da taxa de retorno logarítmica\n",
    "\n",
    "np.log(13.5/15.2) * 100"
   ]
  },
  {
   "cell_type": "code",
   "execution_count": 6,
   "metadata": {},
   "outputs": [
    {
     "data": {
      "text/plain": [
       "(0    0.232812\n",
       " Name: MGLU, dtype: float64,\n",
       " 245    0.068945\n",
       " Name: MGLU, dtype: float64)"
      ]
     },
     "execution_count": 6,
     "metadata": {},
     "output_type": "execute_result"
    }
   ],
   "source": [
    "df['MGLU'][df['Date'] == '2015-01-02'], df['MGLU'][df['Date'] == '2015-12-30']"
   ]
  },
  {
   "cell_type": "code",
   "execution_count": 7,
   "metadata": {},
   "outputs": [
    {
     "data": {
      "text/plain": [
       "-134.37347467010946"
      ]
     },
     "execution_count": 7,
     "metadata": {},
     "output_type": "execute_result"
    }
   ],
   "source": [
    "np.log(0.06/0.23) * 100"
   ]
  },
  {
   "cell_type": "markdown",
   "metadata": {},
   "source": [
    "### 2016"
   ]
  },
  {
   "cell_type": "code",
   "execution_count": 8,
   "metadata": {},
   "outputs": [
    {
     "data": {
      "text/plain": [
       "(246    12.53\n",
       " Name: CVC, dtype: float64,\n",
       " 494    23.700001\n",
       " Name: CVC, dtype: float64)"
      ]
     },
     "execution_count": 8,
     "metadata": {},
     "output_type": "execute_result"
    }
   ],
   "source": [
    "df['CVC'][df['Date'] == '2016-01-04'], df['CVC'][df['Date'] == '2016-12-29']"
   ]
  },
  {
   "cell_type": "code",
   "execution_count": 9,
   "metadata": {},
   "outputs": [
    {
     "data": {
      "text/plain": [
       "63.73492792331087"
      ]
     },
     "execution_count": 9,
     "metadata": {},
     "output_type": "execute_result"
    }
   ],
   "source": [
    "np.log(23.7/12.53) * 100"
   ]
  },
  {
   "cell_type": "code",
   "execution_count": 10,
   "metadata": {},
   "outputs": [
    {
     "data": {
      "text/plain": [
       "(246    0.070117\n",
       " Name: MGLU, dtype: float64,\n",
       " 494    0.414726\n",
       " Name: MGLU, dtype: float64)"
      ]
     },
     "execution_count": 10,
     "metadata": {},
     "output_type": "execute_result"
    }
   ],
   "source": [
    "df['MGLU'][df['Date'] == '2016-01-04'], df['MGLU'][df['Date'] == '2016-12-29']"
   ]
  },
  {
   "cell_type": "code",
   "execution_count": 11,
   "metadata": {},
   "outputs": [
    {
     "data": {
      "text/plain": [
       "176.76619176489942"
      ]
     },
     "execution_count": 11,
     "metadata": {},
     "output_type": "execute_result"
    }
   ],
   "source": [
    "np.log(0.41/0.07) * 100"
   ]
  },
  {
   "cell_type": "markdown",
   "metadata": {},
   "source": [
    "### 2017"
   ]
  },
  {
   "cell_type": "code",
   "execution_count": 12,
   "metadata": {},
   "outputs": [
    {
     "data": {
      "text/plain": [
       "(495    23.02\n",
       " Name: CVC, dtype: float64,\n",
       " 748    48.5\n",
       " Name: CVC, dtype: float64)"
      ]
     },
     "execution_count": 12,
     "metadata": {},
     "output_type": "execute_result"
    }
   ],
   "source": [
    "df['CVC'][df['Date'] == '2017-01-02'], df['CVC'][df['Date'] == '2017-12-29']"
   ]
  },
  {
   "cell_type": "code",
   "execution_count": 13,
   "metadata": {},
   "outputs": [
    {
     "data": {
      "text/plain": [
       "74.5200394649701"
      ]
     },
     "execution_count": 13,
     "metadata": {},
     "output_type": "execute_result"
    }
   ],
   "source": [
    "np.log(48.5/23.02) * 100"
   ]
  },
  {
   "cell_type": "code",
   "execution_count": 14,
   "metadata": {},
   "outputs": [
    {
     "data": {
      "text/plain": [
       "(495    0.397304\n",
       " Name: MGLU, dtype: float64,\n",
       " 748    2.506875\n",
       " Name: MGLU, dtype: float64)"
      ]
     },
     "execution_count": 14,
     "metadata": {},
     "output_type": "execute_result"
    }
   ],
   "source": [
    "df['MGLU'][df['Date'] == '2017-01-02'], df['MGLU'][df['Date'] == '2017-12-29']"
   ]
  },
  {
   "cell_type": "code",
   "execution_count": 15,
   "metadata": {},
   "outputs": [
    {
     "data": {
      "text/plain": [
       "185.78992717326"
      ]
     },
     "execution_count": 15,
     "metadata": {},
     "output_type": "execute_result"
    }
   ],
   "source": [
    "np.log(2.5/0.39) * 100"
   ]
  },
  {
   "cell_type": "markdown",
   "metadata": {},
   "source": [
    "### 2018"
   ]
  },
  {
   "cell_type": "code",
   "execution_count": 16,
   "metadata": {},
   "outputs": [
    {
     "data": {
      "text/plain": [
       "(749    49.880001\n",
       " Name: CVC, dtype: float64,\n",
       " 993    61.18\n",
       " Name: CVC, dtype: float64)"
      ]
     },
     "execution_count": 16,
     "metadata": {},
     "output_type": "execute_result"
    }
   ],
   "source": [
    "df['CVC'][df['Date'] == '2018-01-02'], df['CVC'][df['Date'] == '2018-12-28']"
   ]
  },
  {
   "cell_type": "code",
   "execution_count": 17,
   "metadata": {},
   "outputs": [
    {
     "data": {
      "text/plain": [
       "20.420021791092157"
      ]
     },
     "execution_count": 17,
     "metadata": {},
     "output_type": "execute_result"
    }
   ],
   "source": [
    "np.log(61.18/49.88) * 100"
   ]
  },
  {
   "cell_type": "code",
   "execution_count": 18,
   "metadata": {},
   "outputs": [
    {
     "data": {
      "text/plain": [
       "(749    2.478125\n",
       " Name: MGLU, dtype: float64,\n",
       " 993    5.658437\n",
       " Name: MGLU, dtype: float64)"
      ]
     },
     "execution_count": 18,
     "metadata": {},
     "output_type": "execute_result"
    }
   ],
   "source": [
    "df['MGLU'][df['Date'] == '2018-01-02'], df['MGLU'][df['Date'] == '2018-12-28']"
   ]
  },
  {
   "cell_type": "code",
   "execution_count": 19,
   "metadata": {},
   "outputs": [
    {
     "data": {
      "text/plain": [
       "82.74373945184638"
      ]
     },
     "execution_count": 19,
     "metadata": {},
     "output_type": "execute_result"
    }
   ],
   "source": [
    "np.log(5.65/2.47) * 100"
   ]
  },
  {
   "cell_type": "markdown",
   "metadata": {},
   "source": [
    "### 2019"
   ]
  },
  {
   "cell_type": "code",
   "execution_count": 20,
   "metadata": {},
   "outputs": [
    {
     "data": {
      "text/plain": [
       "(994    61.099998\n",
       " Name: CVC, dtype: float64,\n",
       " 1240    43.799999\n",
       " Name: CVC, dtype: float64)"
      ]
     },
     "execution_count": 20,
     "metadata": {},
     "output_type": "execute_result"
    }
   ],
   "source": [
    "df['CVC'][df['Date'] == '2019-01-02'], df['CVC'][df['Date'] == '2019-12-30']"
   ]
  },
  {
   "cell_type": "code",
   "execution_count": 21,
   "metadata": {},
   "outputs": [
    {
     "data": {
      "text/plain": [
       "-33.29427058483686"
      ]
     },
     "execution_count": 21,
     "metadata": {},
     "output_type": "execute_result"
    }
   ],
   "source": [
    "np.log(43.79/61.09) * 100"
   ]
  },
  {
   "cell_type": "code",
   "execution_count": 22,
   "metadata": {},
   "outputs": [
    {
     "data": {
      "text/plain": [
       "(994    5.812187\n",
       " Name: MGLU, dtype: float64,\n",
       " 1240    11.925\n",
       " Name: MGLU, dtype: float64)"
      ]
     },
     "execution_count": 22,
     "metadata": {},
     "output_type": "execute_result"
    }
   ],
   "source": [
    "df['MGLU'][df['Date'] == '2019-01-02'], df['MGLU'][df['Date'] == '2019-12-30']"
   ]
  },
  {
   "cell_type": "code",
   "execution_count": 23,
   "metadata": {},
   "outputs": [
    {
     "data": {
      "text/plain": [
       "71.8637090773384"
      ]
     },
     "execution_count": 23,
     "metadata": {},
     "output_type": "execute_result"
    }
   ],
   "source": [
    "np.log(11.92/5.81) * 100"
   ]
  },
  {
   "cell_type": "markdown",
   "metadata": {},
   "source": [
    "### 2020"
   ]
  },
  {
   "cell_type": "code",
   "execution_count": 24,
   "metadata": {},
   "outputs": [
    {
     "data": {
      "text/plain": [
       "(1241    44.709999\n",
       " Name: CVC, dtype: float64,\n",
       " 1487    20.58\n",
       " Name: CVC, dtype: float64)"
      ]
     },
     "execution_count": 24,
     "metadata": {},
     "output_type": "execute_result"
    }
   ],
   "source": [
    "df['CVC'][df['Date'] == '2020-01-02'], df['CVC'][df['Date'] == '2020-12-30']"
   ]
  },
  {
   "cell_type": "code",
   "execution_count": 25,
   "metadata": {},
   "outputs": [
    {
     "data": {
      "text/plain": [
       "-77.56537712136198"
      ]
     },
     "execution_count": 25,
     "metadata": {},
     "output_type": "execute_result"
    }
   ],
   "source": [
    "np.log(20.58/44.70) * 100"
   ]
  },
  {
   "cell_type": "code",
   "execution_count": 26,
   "metadata": {},
   "outputs": [
    {
     "data": {
      "text/plain": [
       "(1241    12.3325\n",
       " Name: MGLU, dtype: float64,\n",
       " 1487    24.950001\n",
       " Name: MGLU, dtype: float64)"
      ]
     },
     "execution_count": 26,
     "metadata": {},
     "output_type": "execute_result"
    }
   ],
   "source": [
    "df['MGLU'][df['Date'] == '2020-01-02'], df['MGLU'][df['Date'] == '2020-12-30']"
   ]
  },
  {
   "cell_type": "code",
   "execution_count": 27,
   "metadata": {},
   "outputs": [
    {
     "data": {
      "text/plain": [
       "70.48385050212747"
      ]
     },
     "execution_count": 27,
     "metadata": {},
     "output_type": "execute_result"
    }
   ],
   "source": [
    "np.log(24.95/12.33) * 100"
   ]
  },
  {
   "cell_type": "markdown",
   "metadata": {},
   "source": [
    "## Variância"
   ]
  },
  {
   "cell_type": "code",
   "execution_count": 28,
   "metadata": {},
   "outputs": [],
   "source": [
    "# definindo as taxas para cvc\n",
    "\n",
    "tx_cvc = np.array([-11.86, 63.73,74.52,20.42,-33.29,-77.56])"
   ]
  },
  {
   "cell_type": "code",
   "execution_count": 29,
   "metadata": {},
   "outputs": [
    {
     "data": {
      "text/plain": [
       "5.993333333333335"
      ]
     },
     "execution_count": 29,
     "metadata": {},
     "output_type": "execute_result"
    }
   ],
   "source": [
    "media_cvc = tx_cvc.sum()/ len(tx_cvc)\n",
    "media_cvc"
   ]
  },
  {
   "cell_type": "code",
   "execution_count": 30,
   "metadata": {},
   "outputs": [
    {
     "data": {
      "text/plain": [
       "2846.772788888889"
      ]
     },
     "execution_count": 30,
     "metadata": {},
     "output_type": "execute_result"
    }
   ],
   "source": [
    "variancia_cvc = tx_cvc.var()\n",
    "variancia_cvc"
   ]
  },
  {
   "cell_type": "code",
   "execution_count": 31,
   "metadata": {},
   "outputs": [],
   "source": [
    "# cáculo para a Magalu\n",
    "tx_mglu = np.array([-134.37,176.76,185.78,82.74,71.86,70.48])"
   ]
  },
  {
   "cell_type": "code",
   "execution_count": 32,
   "metadata": {},
   "outputs": [
    {
     "data": {
      "text/plain": [
       "11091.923347222224"
      ]
     },
     "execution_count": 32,
     "metadata": {},
     "output_type": "execute_result"
    }
   ],
   "source": [
    "variancia_mglu = tx_mglu.var()\n",
    "variancia_mglu"
   ]
  },
  {
   "cell_type": "code",
   "execution_count": 33,
   "metadata": {},
   "outputs": [],
   "source": [
    "# alta variância da Magalu indica que ela apesar de ter trazido maior ganho, tem também um maior risco."
   ]
  },
  {
   "cell_type": "markdown",
   "metadata": {},
   "source": [
    "## Desvio Padrão"
   ]
  },
  {
   "cell_type": "code",
   "execution_count": 34,
   "metadata": {},
   "outputs": [
    {
     "data": {
      "text/plain": [
       "53.35515709740614"
      ]
     },
     "execution_count": 34,
     "metadata": {},
     "output_type": "execute_result"
    }
   ],
   "source": [
    "# calculando o desvio padrão para a CVC\n",
    "\n",
    "dp_cvc = math.sqrt(variancia_cvc)\n",
    "dp_cvc"
   ]
  },
  {
   "cell_type": "code",
   "execution_count": 35,
   "metadata": {},
   "outputs": [
    {
     "data": {
      "text/plain": [
       "105.31820045567729"
      ]
     },
     "execution_count": 35,
     "metadata": {},
     "output_type": "execute_result"
    }
   ],
   "source": [
    "# calculando para a Magalu\n",
    "\n",
    "dp_mglu = math.sqrt(variancia_mglu)\n",
    "dp_mglu"
   ]
  },
  {
   "cell_type": "markdown",
   "metadata": {},
   "source": [
    "## Coeficiente de Variação"
   ]
  },
  {
   "cell_type": "code",
   "execution_count": 36,
   "metadata": {},
   "outputs": [
    {
     "data": {
      "text/plain": [
       "890.2417758187896"
      ]
     },
     "execution_count": 36,
     "metadata": {},
     "output_type": "execute_result"
    }
   ],
   "source": [
    "# cálculo para a cvc\n",
    "\n",
    "stats.variation(tx_cvc) * 100"
   ]
  },
  {
   "cell_type": "code",
   "execution_count": 37,
   "metadata": {},
   "outputs": [
    {
     "data": {
      "text/plain": [
       "139.4173640891481"
      ]
     },
     "execution_count": 37,
     "metadata": {},
     "output_type": "execute_result"
    }
   ],
   "source": [
    "stats.variation(tx_mglu) * 100"
   ]
  },
  {
   "cell_type": "markdown",
   "metadata": {},
   "source": [
    "## Risco Médio Anual"
   ]
  },
  {
   "cell_type": "code",
   "execution_count": 38,
   "metadata": {},
   "outputs": [
    {
     "data": {
      "text/html": [
       "<div>\n",
       "<style scoped>\n",
       "    .dataframe tbody tr th:only-of-type {\n",
       "        vertical-align: middle;\n",
       "    }\n",
       "\n",
       "    .dataframe tbody tr th {\n",
       "        vertical-align: top;\n",
       "    }\n",
       "\n",
       "    .dataframe thead th {\n",
       "        text-align: right;\n",
       "    }\n",
       "</style>\n",
       "<table border=\"1\" class=\"dataframe\">\n",
       "  <thead>\n",
       "    <tr style=\"text-align: right;\">\n",
       "      <th></th>\n",
       "      <th>GOL</th>\n",
       "      <th>CVC</th>\n",
       "      <th>WEG</th>\n",
       "      <th>MGLU</th>\n",
       "      <th>TOTS</th>\n",
       "      <th>BOVA</th>\n",
       "    </tr>\n",
       "  </thead>\n",
       "  <tbody>\n",
       "    <tr>\n",
       "      <th>0</th>\n",
       "      <td>14.990000</td>\n",
       "      <td>15.200000</td>\n",
       "      <td>5.923076</td>\n",
       "      <td>0.232812</td>\n",
       "      <td>11.910702</td>\n",
       "      <td>47.259998</td>\n",
       "    </tr>\n",
       "    <tr>\n",
       "      <th>1</th>\n",
       "      <td>14.850000</td>\n",
       "      <td>15.000000</td>\n",
       "      <td>5.963461</td>\n",
       "      <td>0.237187</td>\n",
       "      <td>11.544731</td>\n",
       "      <td>46.320000</td>\n",
       "    </tr>\n",
       "    <tr>\n",
       "      <th>2</th>\n",
       "      <td>15.210000</td>\n",
       "      <td>14.800000</td>\n",
       "      <td>5.875000</td>\n",
       "      <td>0.234062</td>\n",
       "      <td>10.822770</td>\n",
       "      <td>46.580002</td>\n",
       "    </tr>\n",
       "    <tr>\n",
       "      <th>3</th>\n",
       "      <td>14.550000</td>\n",
       "      <td>14.670000</td>\n",
       "      <td>5.807692</td>\n",
       "      <td>0.241875</td>\n",
       "      <td>10.746248</td>\n",
       "      <td>48.150002</td>\n",
       "    </tr>\n",
       "    <tr>\n",
       "      <th>4</th>\n",
       "      <td>14.270000</td>\n",
       "      <td>14.150000</td>\n",
       "      <td>5.905769</td>\n",
       "      <td>0.240000</td>\n",
       "      <td>10.995774</td>\n",
       "      <td>48.509998</td>\n",
       "    </tr>\n",
       "    <tr>\n",
       "      <th>...</th>\n",
       "      <td>...</td>\n",
       "      <td>...</td>\n",
       "      <td>...</td>\n",
       "      <td>...</td>\n",
       "      <td>...</td>\n",
       "      <td>...</td>\n",
       "    </tr>\n",
       "    <tr>\n",
       "      <th>1688</th>\n",
       "      <td>17.200001</td>\n",
       "      <td>18.150000</td>\n",
       "      <td>39.549999</td>\n",
       "      <td>12.340000</td>\n",
       "      <td>33.380001</td>\n",
       "      <td>104.550003</td>\n",
       "    </tr>\n",
       "    <tr>\n",
       "      <th>1689</th>\n",
       "      <td>16.180000</td>\n",
       "      <td>16.910000</td>\n",
       "      <td>39.660000</td>\n",
       "      <td>11.980000</td>\n",
       "      <td>33.400002</td>\n",
       "      <td>102.250000</td>\n",
       "    </tr>\n",
       "    <tr>\n",
       "      <th>1690</th>\n",
       "      <td>15.890000</td>\n",
       "      <td>16.590000</td>\n",
       "      <td>39.200001</td>\n",
       "      <td>11.600000</td>\n",
       "      <td>33.200001</td>\n",
       "      <td>102.400002</td>\n",
       "    </tr>\n",
       "    <tr>\n",
       "      <th>1691</th>\n",
       "      <td>15.740000</td>\n",
       "      <td>16.530001</td>\n",
       "      <td>37.830002</td>\n",
       "      <td>11.150000</td>\n",
       "      <td>32.910000</td>\n",
       "      <td>100.610001</td>\n",
       "    </tr>\n",
       "    <tr>\n",
       "      <th>1692</th>\n",
       "      <td>15.180000</td>\n",
       "      <td>15.970000</td>\n",
       "      <td>37.000000</td>\n",
       "      <td>10.810000</td>\n",
       "      <td>32.759998</td>\n",
       "      <td>99.680000</td>\n",
       "    </tr>\n",
       "  </tbody>\n",
       "</table>\n",
       "<p>1693 rows × 6 columns</p>\n",
       "</div>"
      ],
      "text/plain": [
       "            GOL        CVC        WEG       MGLU       TOTS        BOVA\n",
       "0     14.990000  15.200000   5.923076   0.232812  11.910702   47.259998\n",
       "1     14.850000  15.000000   5.963461   0.237187  11.544731   46.320000\n",
       "2     15.210000  14.800000   5.875000   0.234062  10.822770   46.580002\n",
       "3     14.550000  14.670000   5.807692   0.241875  10.746248   48.150002\n",
       "4     14.270000  14.150000   5.905769   0.240000  10.995774   48.509998\n",
       "...         ...        ...        ...        ...        ...         ...\n",
       "1688  17.200001  18.150000  39.549999  12.340000  33.380001  104.550003\n",
       "1689  16.180000  16.910000  39.660000  11.980000  33.400002  102.250000\n",
       "1690  15.890000  16.590000  39.200001  11.600000  33.200001  102.400002\n",
       "1691  15.740000  16.530001  37.830002  11.150000  32.910000  100.610001\n",
       "1692  15.180000  15.970000  37.000000  10.810000  32.759998   99.680000\n",
       "\n",
       "[1693 rows x 6 columns]"
      ]
     },
     "execution_count": 38,
     "metadata": {},
     "output_type": "execute_result"
    }
   ],
   "source": [
    "# primeiramente vamos apagar os dados de nosso dataset para prosseguirmos com os cálculos\n",
    "\n",
    "df.drop(labels = ['Date'], axis =1, inplace = True)\n",
    "df"
   ]
  },
  {
   "cell_type": "code",
   "execution_count": 39,
   "metadata": {},
   "outputs": [
    {
     "data": {
      "text/html": [
       "<div>\n",
       "<style scoped>\n",
       "    .dataframe tbody tr th:only-of-type {\n",
       "        vertical-align: middle;\n",
       "    }\n",
       "\n",
       "    .dataframe tbody tr th {\n",
       "        vertical-align: top;\n",
       "    }\n",
       "\n",
       "    .dataframe thead th {\n",
       "        text-align: right;\n",
       "    }\n",
       "</style>\n",
       "<table border=\"1\" class=\"dataframe\">\n",
       "  <thead>\n",
       "    <tr style=\"text-align: right;\">\n",
       "      <th></th>\n",
       "      <th>GOL</th>\n",
       "      <th>CVC</th>\n",
       "      <th>WEG</th>\n",
       "      <th>MGLU</th>\n",
       "      <th>TOTS</th>\n",
       "      <th>BOVA</th>\n",
       "    </tr>\n",
       "  </thead>\n",
       "  <tbody>\n",
       "    <tr>\n",
       "      <th>0</th>\n",
       "      <td>NaN</td>\n",
       "      <td>NaN</td>\n",
       "      <td>NaN</td>\n",
       "      <td>NaN</td>\n",
       "      <td>NaN</td>\n",
       "      <td>NaN</td>\n",
       "    </tr>\n",
       "    <tr>\n",
       "      <th>1</th>\n",
       "      <td>-0.009340</td>\n",
       "      <td>-0.013158</td>\n",
       "      <td>0.006818</td>\n",
       "      <td>0.018792</td>\n",
       "      <td>-0.030726</td>\n",
       "      <td>-0.019890</td>\n",
       "    </tr>\n",
       "    <tr>\n",
       "      <th>2</th>\n",
       "      <td>0.024242</td>\n",
       "      <td>-0.013333</td>\n",
       "      <td>-0.014834</td>\n",
       "      <td>-0.013175</td>\n",
       "      <td>-0.062536</td>\n",
       "      <td>0.005613</td>\n",
       "    </tr>\n",
       "    <tr>\n",
       "      <th>3</th>\n",
       "      <td>-0.043392</td>\n",
       "      <td>-0.008784</td>\n",
       "      <td>-0.011457</td>\n",
       "      <td>0.033380</td>\n",
       "      <td>-0.007070</td>\n",
       "      <td>0.033705</td>\n",
       "    </tr>\n",
       "    <tr>\n",
       "      <th>4</th>\n",
       "      <td>-0.019244</td>\n",
       "      <td>-0.035447</td>\n",
       "      <td>0.016887</td>\n",
       "      <td>-0.007752</td>\n",
       "      <td>0.023220</td>\n",
       "      <td>0.007477</td>\n",
       "    </tr>\n",
       "    <tr>\n",
       "      <th>...</th>\n",
       "      <td>...</td>\n",
       "      <td>...</td>\n",
       "      <td>...</td>\n",
       "      <td>...</td>\n",
       "      <td>...</td>\n",
       "      <td>...</td>\n",
       "    </tr>\n",
       "    <tr>\n",
       "      <th>1688</th>\n",
       "      <td>0.007026</td>\n",
       "      <td>0.061403</td>\n",
       "      <td>0.016971</td>\n",
       "      <td>-0.006441</td>\n",
       "      <td>0.047052</td>\n",
       "      <td>0.021695</td>\n",
       "    </tr>\n",
       "    <tr>\n",
       "      <th>1689</th>\n",
       "      <td>-0.059302</td>\n",
       "      <td>-0.068320</td>\n",
       "      <td>0.002781</td>\n",
       "      <td>-0.029173</td>\n",
       "      <td>0.000599</td>\n",
       "      <td>-0.021999</td>\n",
       "    </tr>\n",
       "    <tr>\n",
       "      <th>1690</th>\n",
       "      <td>-0.017923</td>\n",
       "      <td>-0.018924</td>\n",
       "      <td>-0.011599</td>\n",
       "      <td>-0.031719</td>\n",
       "      <td>-0.005988</td>\n",
       "      <td>0.001467</td>\n",
       "    </tr>\n",
       "    <tr>\n",
       "      <th>1691</th>\n",
       "      <td>-0.009440</td>\n",
       "      <td>-0.003617</td>\n",
       "      <td>-0.034949</td>\n",
       "      <td>-0.038793</td>\n",
       "      <td>-0.008735</td>\n",
       "      <td>-0.017480</td>\n",
       "    </tr>\n",
       "    <tr>\n",
       "      <th>1692</th>\n",
       "      <td>-0.035578</td>\n",
       "      <td>-0.033878</td>\n",
       "      <td>-0.021940</td>\n",
       "      <td>-0.030493</td>\n",
       "      <td>-0.004558</td>\n",
       "      <td>-0.009244</td>\n",
       "    </tr>\n",
       "  </tbody>\n",
       "</table>\n",
       "<p>1693 rows × 6 columns</p>\n",
       "</div>"
      ],
      "text/plain": [
       "           GOL       CVC       WEG      MGLU      TOTS      BOVA\n",
       "0          NaN       NaN       NaN       NaN       NaN       NaN\n",
       "1    -0.009340 -0.013158  0.006818  0.018792 -0.030726 -0.019890\n",
       "2     0.024242 -0.013333 -0.014834 -0.013175 -0.062536  0.005613\n",
       "3    -0.043392 -0.008784 -0.011457  0.033380 -0.007070  0.033705\n",
       "4    -0.019244 -0.035447  0.016887 -0.007752  0.023220  0.007477\n",
       "...        ...       ...       ...       ...       ...       ...\n",
       "1688  0.007026  0.061403  0.016971 -0.006441  0.047052  0.021695\n",
       "1689 -0.059302 -0.068320  0.002781 -0.029173  0.000599 -0.021999\n",
       "1690 -0.017923 -0.018924 -0.011599 -0.031719 -0.005988  0.001467\n",
       "1691 -0.009440 -0.003617 -0.034949 -0.038793 -0.008735 -0.017480\n",
       "1692 -0.035578 -0.033878 -0.021940 -0.030493 -0.004558 -0.009244\n",
       "\n",
       "[1693 rows x 6 columns]"
      ]
     },
     "execution_count": 39,
     "metadata": {},
     "output_type": "execute_result"
    }
   ],
   "source": [
    "# cálculo da taxa de retorno simples de todas as ações\n",
    "\n",
    "tx_retorno = (df / df.shift(1)) - 1\n",
    "tx_retorno"
   ]
  },
  {
   "cell_type": "code",
   "execution_count": 40,
   "metadata": {},
   "outputs": [
    {
     "data": {
      "text/plain": [
       "GOL     4.935339\n",
       "CVC     3.505846\n",
       "WEG     2.223879\n",
       "MGLU    4.035131\n",
       "TOTS    2.430916\n",
       "BOVA    1.688343\n",
       "dtype: float64"
      ]
     },
     "execution_count": 40,
     "metadata": {},
     "output_type": "execute_result"
    }
   ],
   "source": [
    "# cálculo do desvio padrão para todas as taxas e toda base de dados\n",
    "\n",
    "tx_retorno.std()*100"
   ]
  },
  {
   "cell_type": "markdown",
   "metadata": {},
   "source": [
    "## Covariância"
   ]
  },
  {
   "cell_type": "code",
   "execution_count": 41,
   "metadata": {},
   "outputs": [
    {
     "data": {
      "text/html": [
       "<div>\n",
       "<style scoped>\n",
       "    .dataframe tbody tr th:only-of-type {\n",
       "        vertical-align: middle;\n",
       "    }\n",
       "\n",
       "    .dataframe tbody tr th {\n",
       "        vertical-align: top;\n",
       "    }\n",
       "\n",
       "    .dataframe thead th {\n",
       "        text-align: right;\n",
       "    }\n",
       "</style>\n",
       "<table border=\"1\" class=\"dataframe\">\n",
       "  <thead>\n",
       "    <tr style=\"text-align: right;\">\n",
       "      <th></th>\n",
       "      <th>GOL</th>\n",
       "      <th>CVC</th>\n",
       "      <th>WEG</th>\n",
       "      <th>MGLU</th>\n",
       "      <th>TOTS</th>\n",
       "      <th>BOVA</th>\n",
       "    </tr>\n",
       "  </thead>\n",
       "  <tbody>\n",
       "    <tr>\n",
       "      <th>GOL</th>\n",
       "      <td>0.002436</td>\n",
       "      <td>0.000882</td>\n",
       "      <td>0.000343</td>\n",
       "      <td>0.000638</td>\n",
       "      <td>0.000368</td>\n",
       "      <td>0.000491</td>\n",
       "    </tr>\n",
       "    <tr>\n",
       "      <th>CVC</th>\n",
       "      <td>0.000882</td>\n",
       "      <td>0.001229</td>\n",
       "      <td>0.000237</td>\n",
       "      <td>0.000443</td>\n",
       "      <td>0.000261</td>\n",
       "      <td>0.000329</td>\n",
       "    </tr>\n",
       "    <tr>\n",
       "      <th>WEG</th>\n",
       "      <td>0.000343</td>\n",
       "      <td>0.000237</td>\n",
       "      <td>0.000495</td>\n",
       "      <td>0.000271</td>\n",
       "      <td>0.000214</td>\n",
       "      <td>0.000201</td>\n",
       "    </tr>\n",
       "    <tr>\n",
       "      <th>MGLU</th>\n",
       "      <td>0.000638</td>\n",
       "      <td>0.000443</td>\n",
       "      <td>0.000271</td>\n",
       "      <td>0.001628</td>\n",
       "      <td>0.000290</td>\n",
       "      <td>0.000310</td>\n",
       "    </tr>\n",
       "    <tr>\n",
       "      <th>TOTS</th>\n",
       "      <td>0.000368</td>\n",
       "      <td>0.000261</td>\n",
       "      <td>0.000214</td>\n",
       "      <td>0.000290</td>\n",
       "      <td>0.000591</td>\n",
       "      <td>0.000200</td>\n",
       "    </tr>\n",
       "    <tr>\n",
       "      <th>BOVA</th>\n",
       "      <td>0.000491</td>\n",
       "      <td>0.000329</td>\n",
       "      <td>0.000201</td>\n",
       "      <td>0.000310</td>\n",
       "      <td>0.000200</td>\n",
       "      <td>0.000285</td>\n",
       "    </tr>\n",
       "  </tbody>\n",
       "</table>\n",
       "</div>"
      ],
      "text/plain": [
       "           GOL       CVC       WEG      MGLU      TOTS      BOVA\n",
       "GOL   0.002436  0.000882  0.000343  0.000638  0.000368  0.000491\n",
       "CVC   0.000882  0.001229  0.000237  0.000443  0.000261  0.000329\n",
       "WEG   0.000343  0.000237  0.000495  0.000271  0.000214  0.000201\n",
       "MGLU  0.000638  0.000443  0.000271  0.001628  0.000290  0.000310\n",
       "TOTS  0.000368  0.000261  0.000214  0.000290  0.000591  0.000200\n",
       "BOVA  0.000491  0.000329  0.000201  0.000310  0.000200  0.000285"
      ]
     },
     "execution_count": 41,
     "metadata": {},
     "output_type": "execute_result"
    }
   ],
   "source": [
    "tx_retorno.cov()"
   ]
  },
  {
   "cell_type": "markdown",
   "metadata": {},
   "source": [
    "## Coeficiente de Correlação"
   ]
  },
  {
   "cell_type": "code",
   "execution_count": 42,
   "metadata": {},
   "outputs": [
    {
     "data": {
      "text/html": [
       "<div>\n",
       "<style scoped>\n",
       "    .dataframe tbody tr th:only-of-type {\n",
       "        vertical-align: middle;\n",
       "    }\n",
       "\n",
       "    .dataframe tbody tr th {\n",
       "        vertical-align: top;\n",
       "    }\n",
       "\n",
       "    .dataframe thead th {\n",
       "        text-align: right;\n",
       "    }\n",
       "</style>\n",
       "<table border=\"1\" class=\"dataframe\">\n",
       "  <thead>\n",
       "    <tr style=\"text-align: right;\">\n",
       "      <th></th>\n",
       "      <th>GOL</th>\n",
       "      <th>CVC</th>\n",
       "      <th>WEG</th>\n",
       "      <th>MGLU</th>\n",
       "      <th>TOTS</th>\n",
       "      <th>BOVA</th>\n",
       "    </tr>\n",
       "  </thead>\n",
       "  <tbody>\n",
       "    <tr>\n",
       "      <th>GOL</th>\n",
       "      <td>1.000000</td>\n",
       "      <td>0.509516</td>\n",
       "      <td>0.312526</td>\n",
       "      <td>0.320344</td>\n",
       "      <td>0.306495</td>\n",
       "      <td>0.588992</td>\n",
       "    </tr>\n",
       "    <tr>\n",
       "      <th>CVC</th>\n",
       "      <td>0.509516</td>\n",
       "      <td>1.000000</td>\n",
       "      <td>0.304596</td>\n",
       "      <td>0.312924</td>\n",
       "      <td>0.306321</td>\n",
       "      <td>0.556626</td>\n",
       "    </tr>\n",
       "    <tr>\n",
       "      <th>WEG</th>\n",
       "      <td>0.312526</td>\n",
       "      <td>0.304596</td>\n",
       "      <td>1.000000</td>\n",
       "      <td>0.302359</td>\n",
       "      <td>0.396282</td>\n",
       "      <td>0.534168</td>\n",
       "    </tr>\n",
       "    <tr>\n",
       "      <th>MGLU</th>\n",
       "      <td>0.320344</td>\n",
       "      <td>0.312924</td>\n",
       "      <td>0.302359</td>\n",
       "      <td>1.000000</td>\n",
       "      <td>0.296117</td>\n",
       "      <td>0.454406</td>\n",
       "    </tr>\n",
       "    <tr>\n",
       "      <th>TOTS</th>\n",
       "      <td>0.306495</td>\n",
       "      <td>0.306321</td>\n",
       "      <td>0.396282</td>\n",
       "      <td>0.296117</td>\n",
       "      <td>1.000000</td>\n",
       "      <td>0.486674</td>\n",
       "    </tr>\n",
       "    <tr>\n",
       "      <th>BOVA</th>\n",
       "      <td>0.588992</td>\n",
       "      <td>0.556626</td>\n",
       "      <td>0.534168</td>\n",
       "      <td>0.454406</td>\n",
       "      <td>0.486674</td>\n",
       "      <td>1.000000</td>\n",
       "    </tr>\n",
       "  </tbody>\n",
       "</table>\n",
       "</div>"
      ],
      "text/plain": [
       "           GOL       CVC       WEG      MGLU      TOTS      BOVA\n",
       "GOL   1.000000  0.509516  0.312526  0.320344  0.306495  0.588992\n",
       "CVC   0.509516  1.000000  0.304596  0.312924  0.306321  0.556626\n",
       "WEG   0.312526  0.304596  1.000000  0.302359  0.396282  0.534168\n",
       "MGLU  0.320344  0.312924  0.302359  1.000000  0.296117  0.454406\n",
       "TOTS  0.306495  0.306321  0.396282  0.296117  1.000000  0.486674\n",
       "BOVA  0.588992  0.556626  0.534168  0.454406  0.486674  1.000000"
      ]
     },
     "execution_count": 42,
     "metadata": {},
     "output_type": "execute_result"
    }
   ],
   "source": [
    "tx_retorno.corr()"
   ]
  },
  {
   "cell_type": "code",
   "execution_count": 44,
   "metadata": {},
   "outputs": [
    {
     "data": {
      "image/png": "[encoded data removed]",
      "text/plain": [
       "<Figure size 576x576 with 2 Axes>"
      ]
     },
     "metadata": {
      "needs_background": "light"
     },
     "output_type": "display_data"
    }
   ],
   "source": [
    "# verificando através de um mapa de calor a correlação entre as empresas\n",
    "\n",
    "plt.figure(figsize=(8,8))\n",
    "sns.heatmap(tx_retorno.corr(), annot=True);"
   ]
  },
  {
   "cell_type": "markdown",
   "metadata": {},
   "source": [
    "# Risco de Portfólio"
   ]
  },
  {
   "cell_type": "code",
   "execution_count": 46,
   "metadata": {},
   "outputs": [
    {
     "data": {
      "text/html": [
       "<div>\n",
       "<style scoped>\n",
       "    .dataframe tbody tr th:only-of-type {\n",
       "        vertical-align: middle;\n",
       "    }\n",
       "\n",
       "    .dataframe tbody tr th {\n",
       "        vertical-align: top;\n",
       "    }\n",
       "\n",
       "    .dataframe thead th {\n",
       "        text-align: right;\n",
       "    }\n",
       "</style>\n",
       "<table border=\"1\" class=\"dataframe\">\n",
       "  <thead>\n",
       "    <tr style=\"text-align: right;\">\n",
       "      <th></th>\n",
       "      <th>GOL</th>\n",
       "      <th>CVC</th>\n",
       "    </tr>\n",
       "  </thead>\n",
       "  <tbody>\n",
       "    <tr>\n",
       "      <th>0</th>\n",
       "      <td>NaN</td>\n",
       "      <td>NaN</td>\n",
       "    </tr>\n",
       "    <tr>\n",
       "      <th>1</th>\n",
       "      <td>-0.009340</td>\n",
       "      <td>-0.013158</td>\n",
       "    </tr>\n",
       "    <tr>\n",
       "      <th>2</th>\n",
       "      <td>0.024242</td>\n",
       "      <td>-0.013333</td>\n",
       "    </tr>\n",
       "    <tr>\n",
       "      <th>3</th>\n",
       "      <td>-0.043392</td>\n",
       "      <td>-0.008784</td>\n",
       "    </tr>\n",
       "    <tr>\n",
       "      <th>4</th>\n",
       "      <td>-0.019244</td>\n",
       "      <td>-0.035447</td>\n",
       "    </tr>\n",
       "    <tr>\n",
       "      <th>...</th>\n",
       "      <td>...</td>\n",
       "      <td>...</td>\n",
       "    </tr>\n",
       "    <tr>\n",
       "      <th>1688</th>\n",
       "      <td>0.007026</td>\n",
       "      <td>0.061403</td>\n",
       "    </tr>\n",
       "    <tr>\n",
       "      <th>1689</th>\n",
       "      <td>-0.059302</td>\n",
       "      <td>-0.068320</td>\n",
       "    </tr>\n",
       "    <tr>\n",
       "      <th>1690</th>\n",
       "      <td>-0.017923</td>\n",
       "      <td>-0.018924</td>\n",
       "    </tr>\n",
       "    <tr>\n",
       "      <th>1691</th>\n",
       "      <td>-0.009440</td>\n",
       "      <td>-0.003617</td>\n",
       "    </tr>\n",
       "    <tr>\n",
       "      <th>1692</th>\n",
       "      <td>-0.035578</td>\n",
       "      <td>-0.033878</td>\n",
       "    </tr>\n",
       "  </tbody>\n",
       "</table>\n",
       "<p>1693 rows × 2 columns</p>\n",
       "</div>"
      ],
      "text/plain": [
       "           GOL       CVC\n",
       "0          NaN       NaN\n",
       "1    -0.009340 -0.013158\n",
       "2     0.024242 -0.013333\n",
       "3    -0.043392 -0.008784\n",
       "4    -0.019244 -0.035447\n",
       "...        ...       ...\n",
       "1688  0.007026  0.061403\n",
       "1689 -0.059302 -0.068320\n",
       "1690 -0.017923 -0.018924\n",
       "1691 -0.009440 -0.003617\n",
       "1692 -0.035578 -0.033878\n",
       "\n",
       "[1693 rows x 2 columns]"
      ]
     },
     "execution_count": 46,
     "metadata": {},
     "output_type": "execute_result"
    }
   ],
   "source": [
    "# vamos partir da base tx_retorno e filtrar duas ações dessa base\n",
    "\n",
    "tx_filtro = tx_retorno.drop(columns = ['WEG', 'MGLU', 'TOTS', 'BOVA'])\n",
    "tx_filtro"
   ]
  },
  {
   "cell_type": "code",
   "execution_count": 47,
   "metadata": {},
   "outputs": [
    {
     "data": {
      "text/html": [
       "<div>\n",
       "<style scoped>\n",
       "    .dataframe tbody tr th:only-of-type {\n",
       "        vertical-align: middle;\n",
       "    }\n",
       "\n",
       "    .dataframe tbody tr th {\n",
       "        vertical-align: top;\n",
       "    }\n",
       "\n",
       "    .dataframe thead th {\n",
       "        text-align: right;\n",
       "    }\n",
       "</style>\n",
       "<table border=\"1\" class=\"dataframe\">\n",
       "  <thead>\n",
       "    <tr style=\"text-align: right;\">\n",
       "      <th></th>\n",
       "      <th>GOL</th>\n",
       "      <th>CVC</th>\n",
       "    </tr>\n",
       "  </thead>\n",
       "  <tbody>\n",
       "    <tr>\n",
       "      <th>GOL</th>\n",
       "      <td>0.599196</td>\n",
       "      <td>0.216872</td>\n",
       "    </tr>\n",
       "    <tr>\n",
       "      <th>CVC</th>\n",
       "      <td>0.216872</td>\n",
       "      <td>0.302357</td>\n",
       "    </tr>\n",
       "  </tbody>\n",
       "</table>\n",
       "</div>"
      ],
      "text/plain": [
       "          GOL       CVC\n",
       "GOL  0.599196  0.216872\n",
       "CVC  0.216872  0.302357"
      ]
     },
     "execution_count": 47,
     "metadata": {},
     "output_type": "execute_result"
    }
   ],
   "source": [
    "# gerar matriz de covariância x número de dias úteis da Bolsa no ano\n",
    "\n",
    "tx_filtro.cov() * 246"
   ]
  },
  {
   "cell_type": "code",
   "execution_count": 48,
   "metadata": {},
   "outputs": [],
   "source": [
    "# definição de pesos das ações dentro da carteira, no caso meio a meio\n",
    "\n",
    "pesos = np.array([0.5,0.5])"
   ]
  },
  {
   "cell_type": "code",
   "execution_count": 49,
   "metadata": {},
   "outputs": [
    {
     "data": {
      "text/plain": [
       "array([0.40803401, 0.25961464])"
      ]
     },
     "execution_count": 49,
     "metadata": {},
     "output_type": "execute_result"
    }
   ],
   "source": [
    "# multiplicação de matrizes\n",
    "\n",
    "np.dot(tx_filtro.cov()*246, pesos)"
   ]
  },
  {
   "cell_type": "code",
   "execution_count": 50,
   "metadata": {},
   "outputs": [
    {
     "data": {
      "text/plain": [
       "0.333824325351211"
      ]
     },
     "execution_count": 50,
     "metadata": {},
     "output_type": "execute_result"
    }
   ],
   "source": [
    "np.dot(pesos, np.dot(tx_filtro.cov()*246, pesos))"
   ]
  },
  {
   "cell_type": "code",
   "execution_count": 52,
   "metadata": {},
   "outputs": [
    {
     "data": {
      "text/plain": [
       "57.7775324283766"
      ]
     },
     "execution_count": 52,
     "metadata": {},
     "output_type": "execute_result"
    }
   ],
   "source": [
    "# essa carteira com duas ações tem uma volatilidade de 58%\n",
    "\n",
    "math.sqrt(np.dot(pesos, np.dot(tx_filtro.cov()*246, pesos))) * 100"
   ]
  },
  {
   "cell_type": "markdown",
   "metadata": {},
   "source": [
    "# Risco de Portfólio com Todas as Ações"
   ]
  },
  {
   "cell_type": "code",
   "execution_count": 60,
   "metadata": {},
   "outputs": [],
   "source": [
    "pesos1 = np.array([0.2,0.2,0.2,0.2,0.2,0.0])"
   ]
  },
  {
   "cell_type": "code",
   "execution_count": 61,
   "metadata": {},
   "outputs": [
    {
     "data": {
      "text/html": [
       "<div>\n",
       "<style scoped>\n",
       "    .dataframe tbody tr th:only-of-type {\n",
       "        vertical-align: middle;\n",
       "    }\n",
       "\n",
       "    .dataframe tbody tr th {\n",
       "        vertical-align: top;\n",
       "    }\n",
       "\n",
       "    .dataframe thead th {\n",
       "        text-align: right;\n",
       "    }\n",
       "</style>\n",
       "<table border=\"1\" class=\"dataframe\">\n",
       "  <thead>\n",
       "    <tr style=\"text-align: right;\">\n",
       "      <th></th>\n",
       "      <th>GOL</th>\n",
       "      <th>CVC</th>\n",
       "      <th>WEG</th>\n",
       "      <th>MGLU</th>\n",
       "      <th>TOTS</th>\n",
       "      <th>BOVA</th>\n",
       "    </tr>\n",
       "  </thead>\n",
       "  <tbody>\n",
       "    <tr>\n",
       "      <th>GOL</th>\n",
       "      <td>0.599196</td>\n",
       "      <td>0.216872</td>\n",
       "      <td>0.084382</td>\n",
       "      <td>0.156937</td>\n",
       "      <td>0.090458</td>\n",
       "      <td>0.120732</td>\n",
       "    </tr>\n",
       "    <tr>\n",
       "      <th>CVC</th>\n",
       "      <td>0.216872</td>\n",
       "      <td>0.302357</td>\n",
       "      <td>0.058420</td>\n",
       "      <td>0.108899</td>\n",
       "      <td>0.064221</td>\n",
       "      <td>0.081050</td>\n",
       "    </tr>\n",
       "    <tr>\n",
       "      <th>WEG</th>\n",
       "      <td>0.084382</td>\n",
       "      <td>0.058420</td>\n",
       "      <td>0.121663</td>\n",
       "      <td>0.066746</td>\n",
       "      <td>0.052701</td>\n",
       "      <td>0.049338</td>\n",
       "    </tr>\n",
       "    <tr>\n",
       "      <th>MGLU</th>\n",
       "      <td>0.156937</td>\n",
       "      <td>0.108899</td>\n",
       "      <td>0.066746</td>\n",
       "      <td>0.400544</td>\n",
       "      <td>0.071454</td>\n",
       "      <td>0.076155</td>\n",
       "    </tr>\n",
       "    <tr>\n",
       "      <th>TOTS</th>\n",
       "      <td>0.090458</td>\n",
       "      <td>0.064221</td>\n",
       "      <td>0.052701</td>\n",
       "      <td>0.071454</td>\n",
       "      <td>0.145370</td>\n",
       "      <td>0.049136</td>\n",
       "    </tr>\n",
       "    <tr>\n",
       "      <th>BOVA</th>\n",
       "      <td>0.120732</td>\n",
       "      <td>0.081050</td>\n",
       "      <td>0.049338</td>\n",
       "      <td>0.076155</td>\n",
       "      <td>0.049136</td>\n",
       "      <td>0.070122</td>\n",
       "    </tr>\n",
       "  </tbody>\n",
       "</table>\n",
       "</div>"
      ],
      "text/plain": [
       "           GOL       CVC       WEG      MGLU      TOTS      BOVA\n",
       "GOL   0.599196  0.216872  0.084382  0.156937  0.090458  0.120732\n",
       "CVC   0.216872  0.302357  0.058420  0.108899  0.064221  0.081050\n",
       "WEG   0.084382  0.058420  0.121663  0.066746  0.052701  0.049338\n",
       "MGLU  0.156937  0.108899  0.066746  0.400544  0.071454  0.076155\n",
       "TOTS  0.090458  0.064221  0.052701  0.071454  0.145370  0.049136\n",
       "BOVA  0.120732  0.081050  0.049338  0.076155  0.049136  0.070122"
      ]
     },
     "execution_count": 61,
     "metadata": {},
     "output_type": "execute_result"
    }
   ],
   "source": [
    "tx_retorno.cov() * 246"
   ]
  },
  {
   "cell_type": "code",
   "execution_count": 62,
   "metadata": {},
   "outputs": [
    {
     "data": {
      "text/plain": [
       "array([0.229569  , 0.15015384, 0.07678244, 0.16091622, 0.08484066,\n",
       "       0.07528232])"
      ]
     },
     "execution_count": 62,
     "metadata": {},
     "output_type": "execute_result"
    }
   ],
   "source": [
    "np.dot(tx_retorno.cov()*246, pesos1)"
   ]
  },
  {
   "cell_type": "code",
   "execution_count": 63,
   "metadata": {},
   "outputs": [
    {
     "data": {
      "text/plain": [
       "0.14045243212515202"
      ]
     },
     "execution_count": 63,
     "metadata": {},
     "output_type": "execute_result"
    }
   ],
   "source": [
    "variancia_portfolio = np.dot(pesos1, np.dot(tx_retorno.cov()*246, pesos1))\n",
    "variancia_portfolio"
   ]
  },
  {
   "cell_type": "code",
   "execution_count": 64,
   "metadata": {},
   "outputs": [
    {
     "data": {
      "text/plain": [
       "0.37476983886800713"
      ]
     },
     "execution_count": 64,
     "metadata": {},
     "output_type": "execute_result"
    }
   ],
   "source": [
    "volatilidade_portfolio = math.sqrt(variancia_portfolio)\n",
    "volatilidade_portfolio"
   ]
  },
  {
   "cell_type": "markdown",
   "metadata": {},
   "source": [
    "# Risco Sistemático e Não Sistemático"
   ]
  },
  {
   "cell_type": "code",
   "execution_count": 65,
   "metadata": {},
   "outputs": [],
   "source": [
    "pesos2 = np.array([0.0,0.0,0.0,0.0,0.0,1.0])"
   ]
  },
  {
   "cell_type": "code",
   "execution_count": 67,
   "metadata": {},
   "outputs": [
    {
     "data": {
      "text/plain": [
       "GOL     0.599196\n",
       "CVC     0.302357\n",
       "WEG     0.121663\n",
       "MGLU    0.400544\n",
       "TOTS    0.145370\n",
       "BOVA    0.070122\n",
       "dtype: float64"
      ]
     },
     "execution_count": 67,
     "metadata": {},
     "output_type": "execute_result"
    }
   ],
   "source": [
    "tx_retorno.var() * 246"
   ]
  },
  {
   "cell_type": "code",
   "execution_count": 69,
   "metadata": {},
   "outputs": [
    {
     "data": {
      "text/plain": [
       "GOL     0.119839\n",
       "CVC     0.060471\n",
       "WEG     0.024333\n",
       "MGLU    0.080109\n",
       "TOTS    0.029074\n",
       "BOVA    0.000000\n",
       "dtype: float64"
      ]
     },
     "execution_count": 69,
     "metadata": {},
     "output_type": "execute_result"
    }
   ],
   "source": [
    "vr_pesos1 = (tx_retorno.var()*246)* pesos1\n",
    "vr_pesos1"
   ]
  },
  {
   "cell_type": "code",
   "execution_count": 70,
   "metadata": {},
   "outputs": [
    {
     "data": {
      "text/plain": [
       "-0.07414762907623278"
      ]
     },
     "execution_count": 70,
     "metadata": {},
     "output_type": "execute_result"
    }
   ],
   "source": [
    "sub1 = vr_pesos1[0] - vr_pesos1[1] - vr_pesos[2] - vr_pesos[3] - vr_pesos[4] - vr_pesos[5]\n",
    "sub1"
   ]
  },
  {
   "cell_type": "code",
   "execution_count": 71,
   "metadata": {},
   "outputs": [
    {
     "data": {
      "text/plain": [
       "0.2146000612013848"
      ]
     },
     "execution_count": 71,
     "metadata": {},
     "output_type": "execute_result"
    }
   ],
   "source": [
    "risco_nao_sistematico1 = (variancia_portfolio - sub1)\n",
    "risco_nao_sistematico1"
   ]
  },
  {
   "cell_type": "code",
   "execution_count": null,
   "metadata": {},
   "outputs": [],
   "source": []
  }
 ],
 "metadata": {
  "kernelspec": {
   "display_name": "Python 3",
   "language": "python",
   "name": "python3"
  },
  "language_info": {
   "codemirror_mode": {
    "name": "ipython",
    "version": 3
   },
   "file_extension": ".py",
   "mimetype": "text/x-python",
   "name": "python",
   "nbconvert_exporter": "python",
   "pygments_lexer": "ipython3",
   "version": "3.8.5"
  }
 },
 "nbformat": 4,
 "nbformat_minor": 4
}
