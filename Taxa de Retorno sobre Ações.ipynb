{
 "cells": [
  {
   "cell_type": "markdown",
   "metadata": {},
   "source": [
    "# Segundo Cap. - Taxa de Retorno e Cálculo de Risco"
   ]
  },
  {
   "cell_type": "code",
   "execution_count": 1,
   "metadata": {},
   "outputs": [],
   "source": [
    "import pandas as pd\n",
    "import numpy as np\n",
    "import matplotlib.pyplot as plt\n",
    "import seaborn as sns\n",
    "import plotly.express as px\n",
    "import yfinance as yf"
   ]
  },
  {
   "cell_type": "code",
   "execution_count": 2,
   "metadata": {},
   "outputs": [],
   "source": [
    "data = pd.read_csv('acoes.csv')\n",
    "\n",
    "acoes_novas = pd.read_csv('exercicios.csv')"
   ]
  },
  {
   "cell_type": "code",
   "execution_count": 3,
   "metadata": {},
   "outputs": [
    {
     "data": {
      "text/html": [
       "<div>\n",
       "<style scoped>\n",
       "    .dataframe tbody tr th:only-of-type {\n",
       "        vertical-align: middle;\n",
       "    }\n",
       "\n",
       "    .dataframe tbody tr th {\n",
       "        vertical-align: top;\n",
       "    }\n",
       "\n",
       "    .dataframe thead th {\n",
       "        text-align: right;\n",
       "    }\n",
       "</style>\n",
       "<table border=\"1\" class=\"dataframe\">\n",
       "  <thead>\n",
       "    <tr style=\"text-align: right;\">\n",
       "      <th></th>\n",
       "      <th>Date</th>\n",
       "      <th>GOL</th>\n",
       "      <th>CVC</th>\n",
       "      <th>WEG</th>\n",
       "      <th>MGLU</th>\n",
       "      <th>TOTS</th>\n",
       "      <th>BOVA</th>\n",
       "    </tr>\n",
       "  </thead>\n",
       "  <tbody>\n",
       "    <tr>\n",
       "      <th>0</th>\n",
       "      <td>2015-01-02</td>\n",
       "      <td>14.990000</td>\n",
       "      <td>15.200000</td>\n",
       "      <td>5.923076</td>\n",
       "      <td>0.232812</td>\n",
       "      <td>11.910702</td>\n",
       "      <td>47.259998</td>\n",
       "    </tr>\n",
       "    <tr>\n",
       "      <th>1</th>\n",
       "      <td>2015-01-05</td>\n",
       "      <td>14.850000</td>\n",
       "      <td>15.000000</td>\n",
       "      <td>5.963461</td>\n",
       "      <td>0.237187</td>\n",
       "      <td>11.544731</td>\n",
       "      <td>46.320000</td>\n",
       "    </tr>\n",
       "    <tr>\n",
       "      <th>2</th>\n",
       "      <td>2015-01-06</td>\n",
       "      <td>15.210000</td>\n",
       "      <td>14.800000</td>\n",
       "      <td>5.875000</td>\n",
       "      <td>0.234062</td>\n",
       "      <td>10.822770</td>\n",
       "      <td>46.580002</td>\n",
       "    </tr>\n",
       "    <tr>\n",
       "      <th>3</th>\n",
       "      <td>2015-01-07</td>\n",
       "      <td>14.550000</td>\n",
       "      <td>14.670000</td>\n",
       "      <td>5.807692</td>\n",
       "      <td>0.241875</td>\n",
       "      <td>10.746248</td>\n",
       "      <td>48.150002</td>\n",
       "    </tr>\n",
       "    <tr>\n",
       "      <th>4</th>\n",
       "      <td>2015-01-08</td>\n",
       "      <td>14.270000</td>\n",
       "      <td>14.150000</td>\n",
       "      <td>5.905769</td>\n",
       "      <td>0.240000</td>\n",
       "      <td>10.995774</td>\n",
       "      <td>48.509998</td>\n",
       "    </tr>\n",
       "    <tr>\n",
       "      <th>...</th>\n",
       "      <td>...</td>\n",
       "      <td>...</td>\n",
       "      <td>...</td>\n",
       "      <td>...</td>\n",
       "      <td>...</td>\n",
       "      <td>...</td>\n",
       "      <td>...</td>\n",
       "    </tr>\n",
       "    <tr>\n",
       "      <th>1688</th>\n",
       "      <td>2021-10-25</td>\n",
       "      <td>17.200001</td>\n",
       "      <td>18.150000</td>\n",
       "      <td>39.549999</td>\n",
       "      <td>12.340000</td>\n",
       "      <td>33.380001</td>\n",
       "      <td>104.550003</td>\n",
       "    </tr>\n",
       "    <tr>\n",
       "      <th>1689</th>\n",
       "      <td>2021-10-26</td>\n",
       "      <td>16.180000</td>\n",
       "      <td>16.910000</td>\n",
       "      <td>39.660000</td>\n",
       "      <td>11.980000</td>\n",
       "      <td>33.400002</td>\n",
       "      <td>102.250000</td>\n",
       "    </tr>\n",
       "    <tr>\n",
       "      <th>1690</th>\n",
       "      <td>2021-10-27</td>\n",
       "      <td>15.890000</td>\n",
       "      <td>16.590000</td>\n",
       "      <td>39.200001</td>\n",
       "      <td>11.600000</td>\n",
       "      <td>33.200001</td>\n",
       "      <td>102.400002</td>\n",
       "    </tr>\n",
       "    <tr>\n",
       "      <th>1691</th>\n",
       "      <td>2021-10-28</td>\n",
       "      <td>15.740000</td>\n",
       "      <td>16.530001</td>\n",
       "      <td>37.830002</td>\n",
       "      <td>11.150000</td>\n",
       "      <td>32.910000</td>\n",
       "      <td>100.610001</td>\n",
       "    </tr>\n",
       "    <tr>\n",
       "      <th>1692</th>\n",
       "      <td>2021-10-29</td>\n",
       "      <td>15.180000</td>\n",
       "      <td>15.970000</td>\n",
       "      <td>37.000000</td>\n",
       "      <td>10.810000</td>\n",
       "      <td>32.759998</td>\n",
       "      <td>99.680000</td>\n",
       "    </tr>\n",
       "  </tbody>\n",
       "</table>\n",
       "<p>1693 rows × 7 columns</p>\n",
       "</div>"
      ],
      "text/plain": [
       "            Date        GOL        CVC        WEG       MGLU       TOTS  \\\n",
       "0     2015-01-02  14.990000  15.200000   5.923076   0.232812  11.910702   \n",
       "1     2015-01-05  14.850000  15.000000   5.963461   0.237187  11.544731   \n",
       "2     2015-01-06  15.210000  14.800000   5.875000   0.234062  10.822770   \n",
       "3     2015-01-07  14.550000  14.670000   5.807692   0.241875  10.746248   \n",
       "4     2015-01-08  14.270000  14.150000   5.905769   0.240000  10.995774   \n",
       "...          ...        ...        ...        ...        ...        ...   \n",
       "1688  2021-10-25  17.200001  18.150000  39.549999  12.340000  33.380001   \n",
       "1689  2021-10-26  16.180000  16.910000  39.660000  11.980000  33.400002   \n",
       "1690  2021-10-27  15.890000  16.590000  39.200001  11.600000  33.200001   \n",
       "1691  2021-10-28  15.740000  16.530001  37.830002  11.150000  32.910000   \n",
       "1692  2021-10-29  15.180000  15.970000  37.000000  10.810000  32.759998   \n",
       "\n",
       "            BOVA  \n",
       "0      47.259998  \n",
       "1      46.320000  \n",
       "2      46.580002  \n",
       "3      48.150002  \n",
       "4      48.509998  \n",
       "...          ...  \n",
       "1688  104.550003  \n",
       "1689  102.250000  \n",
       "1690  102.400002  \n",
       "1691  100.610001  \n",
       "1692   99.680000  \n",
       "\n",
       "[1693 rows x 7 columns]"
      ]
     },
     "execution_count": 3,
     "metadata": {},
     "output_type": "execute_result"
    }
   ],
   "source": [
    "data"
   ]
  },
  {
   "cell_type": "code",
   "execution_count": 4,
   "metadata": {},
   "outputs": [
    {
     "data": {
      "text/html": [
       "<div>\n",
       "<style scoped>\n",
       "    .dataframe tbody tr th:only-of-type {\n",
       "        vertical-align: middle;\n",
       "    }\n",
       "\n",
       "    .dataframe tbody tr th {\n",
       "        vertical-align: top;\n",
       "    }\n",
       "\n",
       "    .dataframe thead th {\n",
       "        text-align: right;\n",
       "    }\n",
       "</style>\n",
       "<table border=\"1\" class=\"dataframe\">\n",
       "  <thead>\n",
       "    <tr style=\"text-align: right;\">\n",
       "      <th></th>\n",
       "      <th>Date</th>\n",
       "      <th>AMBEV</th>\n",
       "      <th>ODONTO</th>\n",
       "      <th>VIVO</th>\n",
       "      <th>PETR</th>\n",
       "      <th>BB</th>\n",
       "      <th>BOVA</th>\n",
       "    </tr>\n",
       "  </thead>\n",
       "  <tbody>\n",
       "    <tr>\n",
       "      <th>0</th>\n",
       "      <td>2015-01-02</td>\n",
       "      <td>16.020000</td>\n",
       "      <td>9.37</td>\n",
       "      <td>37.820000</td>\n",
       "      <td>9.000000</td>\n",
       "      <td>22.650000</td>\n",
       "      <td>47.259998</td>\n",
       "    </tr>\n",
       "    <tr>\n",
       "      <th>1</th>\n",
       "      <td>2015-01-05</td>\n",
       "      <td>15.730000</td>\n",
       "      <td>9.62</td>\n",
       "      <td>37.070000</td>\n",
       "      <td>8.270000</td>\n",
       "      <td>22.180000</td>\n",
       "      <td>46.320000</td>\n",
       "    </tr>\n",
       "    <tr>\n",
       "      <th>2</th>\n",
       "      <td>2015-01-06</td>\n",
       "      <td>16.330000</td>\n",
       "      <td>9.55</td>\n",
       "      <td>36.150002</td>\n",
       "      <td>8.060000</td>\n",
       "      <td>22.490000</td>\n",
       "      <td>46.580002</td>\n",
       "    </tr>\n",
       "    <tr>\n",
       "      <th>3</th>\n",
       "      <td>2015-01-07</td>\n",
       "      <td>16.559999</td>\n",
       "      <td>9.69</td>\n",
       "      <td>37.389999</td>\n",
       "      <td>8.450000</td>\n",
       "      <td>23.480000</td>\n",
       "      <td>48.150002</td>\n",
       "    </tr>\n",
       "    <tr>\n",
       "      <th>4</th>\n",
       "      <td>2015-01-08</td>\n",
       "      <td>16.540001</td>\n",
       "      <td>9.66</td>\n",
       "      <td>38.910000</td>\n",
       "      <td>9.020000</td>\n",
       "      <td>23.559999</td>\n",
       "      <td>48.509998</td>\n",
       "    </tr>\n",
       "    <tr>\n",
       "      <th>...</th>\n",
       "      <td>...</td>\n",
       "      <td>...</td>\n",
       "      <td>...</td>\n",
       "      <td>...</td>\n",
       "      <td>...</td>\n",
       "      <td>...</td>\n",
       "      <td>...</td>\n",
       "    </tr>\n",
       "    <tr>\n",
       "      <th>1689</th>\n",
       "      <td>2021-10-26</td>\n",
       "      <td>15.160000</td>\n",
       "      <td>12.90</td>\n",
       "      <td>44.790001</td>\n",
       "      <td>29.270000</td>\n",
       "      <td>29.200001</td>\n",
       "      <td>102.250000</td>\n",
       "    </tr>\n",
       "    <tr>\n",
       "      <th>1690</th>\n",
       "      <td>2021-10-27</td>\n",
       "      <td>15.220000</td>\n",
       "      <td>13.21</td>\n",
       "      <td>44.590000</td>\n",
       "      <td>29.309999</td>\n",
       "      <td>29.170000</td>\n",
       "      <td>102.400002</td>\n",
       "    </tr>\n",
       "    <tr>\n",
       "      <th>1691</th>\n",
       "      <td>2021-10-28</td>\n",
       "      <td>16.700001</td>\n",
       "      <td>13.10</td>\n",
       "      <td>45.000000</td>\n",
       "      <td>29.590000</td>\n",
       "      <td>28.910000</td>\n",
       "      <td>100.610001</td>\n",
       "    </tr>\n",
       "    <tr>\n",
       "      <th>1692</th>\n",
       "      <td>2021-10-29</td>\n",
       "      <td>16.990000</td>\n",
       "      <td>13.41</td>\n",
       "      <td>45.520000</td>\n",
       "      <td>27.670000</td>\n",
       "      <td>28.500000</td>\n",
       "      <td>99.680000</td>\n",
       "    </tr>\n",
       "    <tr>\n",
       "      <th>1693</th>\n",
       "      <td>2021-11-01</td>\n",
       "      <td>17.410000</td>\n",
       "      <td>13.01</td>\n",
       "      <td>46.160000</td>\n",
       "      <td>28.629999</td>\n",
       "      <td>29.469999</td>\n",
       "      <td>101.500000</td>\n",
       "    </tr>\n",
       "  </tbody>\n",
       "</table>\n",
       "<p>1694 rows × 7 columns</p>\n",
       "</div>"
      ],
      "text/plain": [
       "            Date      AMBEV  ODONTO       VIVO       PETR         BB  \\\n",
       "0     2015-01-02  16.020000    9.37  37.820000   9.000000  22.650000   \n",
       "1     2015-01-05  15.730000    9.62  37.070000   8.270000  22.180000   \n",
       "2     2015-01-06  16.330000    9.55  36.150002   8.060000  22.490000   \n",
       "3     2015-01-07  16.559999    9.69  37.389999   8.450000  23.480000   \n",
       "4     2015-01-08  16.540001    9.66  38.910000   9.020000  23.559999   \n",
       "...          ...        ...     ...        ...        ...        ...   \n",
       "1689  2021-10-26  15.160000   12.90  44.790001  29.270000  29.200001   \n",
       "1690  2021-10-27  15.220000   13.21  44.590000  29.309999  29.170000   \n",
       "1691  2021-10-28  16.700001   13.10  45.000000  29.590000  28.910000   \n",
       "1692  2021-10-29  16.990000   13.41  45.520000  27.670000  28.500000   \n",
       "1693  2021-11-01  17.410000   13.01  46.160000  28.629999  29.469999   \n",
       "\n",
       "            BOVA  \n",
       "0      47.259998  \n",
       "1      46.320000  \n",
       "2      46.580002  \n",
       "3      48.150002  \n",
       "4      48.509998  \n",
       "...          ...  \n",
       "1689  102.250000  \n",
       "1690  102.400002  \n",
       "1691  100.610001  \n",
       "1692   99.680000  \n",
       "1693  101.500000  \n",
       "\n",
       "[1694 rows x 7 columns]"
      ]
     },
     "execution_count": 4,
     "metadata": {},
     "output_type": "execute_result"
    }
   ],
   "source": [
    "acoes_novas"
   ]
  },
  {
   "cell_type": "markdown",
   "metadata": {},
   "source": [
    "## Taxa de Retorno Simples"
   ]
  },
  {
   "cell_type": "markdown",
   "metadata": {},
   "source": [
    "RS = ((PREÇO FINAL - PREÇO INICIAL) / PREÇO INICIAL) * 100"
   ]
  },
  {
   "cell_type": "code",
   "execution_count": 5,
   "metadata": {},
   "outputs": [
    {
     "data": {
      "text/plain": [
       "1693"
      ]
     },
     "execution_count": 5,
     "metadata": {},
     "output_type": "execute_result"
    }
   ],
   "source": [
    "len(data)"
   ]
  },
  {
   "cell_type": "code",
   "execution_count": 6,
   "metadata": {},
   "outputs": [
    {
     "data": {
      "text/plain": [
       "(1693, 7)"
      ]
     },
     "execution_count": 6,
     "metadata": {},
     "output_type": "execute_result"
    }
   ],
   "source": [
    "data.shape"
   ]
  },
  {
   "cell_type": "code",
   "execution_count": 7,
   "metadata": {},
   "outputs": [
    {
     "data": {
      "text/plain": [
       "(14.989999771118164, 15.18000030517578)"
      ]
     },
     "execution_count": 7,
     "metadata": {},
     "output_type": "execute_result"
    }
   ],
   "source": [
    "#verificando primeiro registro da GOL para implementarmos o cálculo da tx de retorno simples\n",
    "\n",
    "data['GOL'][0], data['GOL'][len(data)-1]"
   ]
  },
  {
   "cell_type": "code",
   "execution_count": 8,
   "metadata": {},
   "outputs": [
    {
     "data": {
      "text/plain": [
       "1.267515256562559"
      ]
     },
     "execution_count": 8,
     "metadata": {},
     "output_type": "execute_result"
    }
   ],
   "source": [
    "((data['GOL'][len(data)-1] - data['GOL'][0]) / data['GOL'][0])*100"
   ]
  },
  {
   "cell_type": "code",
   "execution_count": 9,
   "metadata": {
    "scrolled": true
   },
   "outputs": [
    {
     "data": {
      "text/plain": [
       "5.065792548854635"
      ]
     },
     "execution_count": 9,
     "metadata": {},
     "output_type": "execute_result"
    }
   ],
   "source": [
    "((data['CVC'][len(data)-1] - data['CVC'][0]) / data['CVC'][0])*100"
   ]
  },
  {
   "cell_type": "code",
   "execution_count": 10,
   "metadata": {},
   "outputs": [
    {
     "data": {
      "text/plain": [
       "524.6754059121735"
      ]
     },
     "execution_count": 10,
     "metadata": {},
     "output_type": "execute_result"
    }
   ],
   "source": [
    "((data['WEG'][len(data)-1] - data['WEG'][0]) / data['WEG'][0])*100"
   ]
  },
  {
   "cell_type": "code",
   "execution_count": 11,
   "metadata": {},
   "outputs": [
    {
     "data": {
      "text/plain": [
       "4543.231582893453"
      ]
     },
     "execution_count": 11,
     "metadata": {},
     "output_type": "execute_result"
    }
   ],
   "source": [
    "((data['MGLU'][len(data)-1] - data['MGLU'][0]) / data['MGLU'][0])*100"
   ]
  },
  {
   "cell_type": "code",
   "execution_count": 12,
   "metadata": {},
   "outputs": [
    {
     "data": {
      "text/plain": [
       "175.04675210956978"
      ]
     },
     "execution_count": 12,
     "metadata": {},
     "output_type": "execute_result"
    }
   ],
   "source": [
    "((data['TOTS'][len(data)-1] - data['TOTS'][0]) / data['TOTS'][0])*100"
   ]
  },
  {
   "cell_type": "code",
   "execution_count": 13,
   "metadata": {},
   "outputs": [
    {
     "data": {
      "text/plain": [
       "110.91833230082513"
      ]
     },
     "execution_count": 13,
     "metadata": {},
     "output_type": "execute_result"
    }
   ],
   "source": [
    "((data['BOVA'][len(data)-1] - data['BOVA'][0]) / data['BOVA'][0])*100"
   ]
  },
  {
   "cell_type": "markdown",
   "metadata": {},
   "source": [
    "## Taxa de Retorno Diária"
   ]
  },
  {
   "cell_type": "code",
   "execution_count": 14,
   "metadata": {},
   "outputs": [
    {
     "data": {
      "text/plain": [
       "0             NaN\n",
       "1       14.990000\n",
       "2       14.850000\n",
       "3       15.210000\n",
       "4       14.550000\n",
       "          ...    \n",
       "1688    17.080000\n",
       "1689    17.200001\n",
       "1690    16.180000\n",
       "1691    15.890000\n",
       "1692    15.740000\n",
       "Name: GOL, Length: 1693, dtype: float64"
      ]
     },
     "execution_count": 14,
     "metadata": {},
     "output_type": "execute_result"
    }
   ],
   "source": [
    "#automatizando o processo para obter a tx diária - utilizando comando 'shift'\n",
    "\n",
    "data['GOL'].shift(1)"
   ]
  },
  {
   "cell_type": "code",
   "execution_count": 15,
   "metadata": {},
   "outputs": [],
   "source": [
    "# criando uma coluna para a tx de retorno \n",
    "\n",
    "data['RS GOL'] = (data['GOL'] / data['GOL'].shift(1))-1"
   ]
  },
  {
   "cell_type": "code",
   "execution_count": 16,
   "metadata": {},
   "outputs": [
    {
     "data": {
      "text/html": [
       "<div>\n",
       "<style scoped>\n",
       "    .dataframe tbody tr th:only-of-type {\n",
       "        vertical-align: middle;\n",
       "    }\n",
       "\n",
       "    .dataframe tbody tr th {\n",
       "        vertical-align: top;\n",
       "    }\n",
       "\n",
       "    .dataframe thead th {\n",
       "        text-align: right;\n",
       "    }\n",
       "</style>\n",
       "<table border=\"1\" class=\"dataframe\">\n",
       "  <thead>\n",
       "    <tr style=\"text-align: right;\">\n",
       "      <th></th>\n",
       "      <th>Date</th>\n",
       "      <th>GOL</th>\n",
       "      <th>CVC</th>\n",
       "      <th>WEG</th>\n",
       "      <th>MGLU</th>\n",
       "      <th>TOTS</th>\n",
       "      <th>BOVA</th>\n",
       "      <th>RS GOL</th>\n",
       "    </tr>\n",
       "  </thead>\n",
       "  <tbody>\n",
       "    <tr>\n",
       "      <th>0</th>\n",
       "      <td>2015-01-02</td>\n",
       "      <td>14.990000</td>\n",
       "      <td>15.200000</td>\n",
       "      <td>5.923076</td>\n",
       "      <td>0.232812</td>\n",
       "      <td>11.910702</td>\n",
       "      <td>47.259998</td>\n",
       "      <td>NaN</td>\n",
       "    </tr>\n",
       "    <tr>\n",
       "      <th>1</th>\n",
       "      <td>2015-01-05</td>\n",
       "      <td>14.850000</td>\n",
       "      <td>15.000000</td>\n",
       "      <td>5.963461</td>\n",
       "      <td>0.237187</td>\n",
       "      <td>11.544731</td>\n",
       "      <td>46.320000</td>\n",
       "      <td>-0.009340</td>\n",
       "    </tr>\n",
       "    <tr>\n",
       "      <th>2</th>\n",
       "      <td>2015-01-06</td>\n",
       "      <td>15.210000</td>\n",
       "      <td>14.800000</td>\n",
       "      <td>5.875000</td>\n",
       "      <td>0.234062</td>\n",
       "      <td>10.822770</td>\n",
       "      <td>46.580002</td>\n",
       "      <td>0.024242</td>\n",
       "    </tr>\n",
       "    <tr>\n",
       "      <th>3</th>\n",
       "      <td>2015-01-07</td>\n",
       "      <td>14.550000</td>\n",
       "      <td>14.670000</td>\n",
       "      <td>5.807692</td>\n",
       "      <td>0.241875</td>\n",
       "      <td>10.746248</td>\n",
       "      <td>48.150002</td>\n",
       "      <td>-0.043392</td>\n",
       "    </tr>\n",
       "    <tr>\n",
       "      <th>4</th>\n",
       "      <td>2015-01-08</td>\n",
       "      <td>14.270000</td>\n",
       "      <td>14.150000</td>\n",
       "      <td>5.905769</td>\n",
       "      <td>0.240000</td>\n",
       "      <td>10.995774</td>\n",
       "      <td>48.509998</td>\n",
       "      <td>-0.019244</td>\n",
       "    </tr>\n",
       "    <tr>\n",
       "      <th>...</th>\n",
       "      <td>...</td>\n",
       "      <td>...</td>\n",
       "      <td>...</td>\n",
       "      <td>...</td>\n",
       "      <td>...</td>\n",
       "      <td>...</td>\n",
       "      <td>...</td>\n",
       "      <td>...</td>\n",
       "    </tr>\n",
       "    <tr>\n",
       "      <th>1688</th>\n",
       "      <td>2021-10-25</td>\n",
       "      <td>17.200001</td>\n",
       "      <td>18.150000</td>\n",
       "      <td>39.549999</td>\n",
       "      <td>12.340000</td>\n",
       "      <td>33.380001</td>\n",
       "      <td>104.550003</td>\n",
       "      <td>0.007026</td>\n",
       "    </tr>\n",
       "    <tr>\n",
       "      <th>1689</th>\n",
       "      <td>2021-10-26</td>\n",
       "      <td>16.180000</td>\n",
       "      <td>16.910000</td>\n",
       "      <td>39.660000</td>\n",
       "      <td>11.980000</td>\n",
       "      <td>33.400002</td>\n",
       "      <td>102.250000</td>\n",
       "      <td>-0.059302</td>\n",
       "    </tr>\n",
       "    <tr>\n",
       "      <th>1690</th>\n",
       "      <td>2021-10-27</td>\n",
       "      <td>15.890000</td>\n",
       "      <td>16.590000</td>\n",
       "      <td>39.200001</td>\n",
       "      <td>11.600000</td>\n",
       "      <td>33.200001</td>\n",
       "      <td>102.400002</td>\n",
       "      <td>-0.017923</td>\n",
       "    </tr>\n",
       "    <tr>\n",
       "      <th>1691</th>\n",
       "      <td>2021-10-28</td>\n",
       "      <td>15.740000</td>\n",
       "      <td>16.530001</td>\n",
       "      <td>37.830002</td>\n",
       "      <td>11.150000</td>\n",
       "      <td>32.910000</td>\n",
       "      <td>100.610001</td>\n",
       "      <td>-0.009440</td>\n",
       "    </tr>\n",
       "    <tr>\n",
       "      <th>1692</th>\n",
       "      <td>2021-10-29</td>\n",
       "      <td>15.180000</td>\n",
       "      <td>15.970000</td>\n",
       "      <td>37.000000</td>\n",
       "      <td>10.810000</td>\n",
       "      <td>32.759998</td>\n",
       "      <td>99.680000</td>\n",
       "      <td>-0.035578</td>\n",
       "    </tr>\n",
       "  </tbody>\n",
       "</table>\n",
       "<p>1693 rows × 8 columns</p>\n",
       "</div>"
      ],
      "text/plain": [
       "            Date        GOL        CVC        WEG       MGLU       TOTS  \\\n",
       "0     2015-01-02  14.990000  15.200000   5.923076   0.232812  11.910702   \n",
       "1     2015-01-05  14.850000  15.000000   5.963461   0.237187  11.544731   \n",
       "2     2015-01-06  15.210000  14.800000   5.875000   0.234062  10.822770   \n",
       "3     2015-01-07  14.550000  14.670000   5.807692   0.241875  10.746248   \n",
       "4     2015-01-08  14.270000  14.150000   5.905769   0.240000  10.995774   \n",
       "...          ...        ...        ...        ...        ...        ...   \n",
       "1688  2021-10-25  17.200001  18.150000  39.549999  12.340000  33.380001   \n",
       "1689  2021-10-26  16.180000  16.910000  39.660000  11.980000  33.400002   \n",
       "1690  2021-10-27  15.890000  16.590000  39.200001  11.600000  33.200001   \n",
       "1691  2021-10-28  15.740000  16.530001  37.830002  11.150000  32.910000   \n",
       "1692  2021-10-29  15.180000  15.970000  37.000000  10.810000  32.759998   \n",
       "\n",
       "            BOVA    RS GOL  \n",
       "0      47.259998       NaN  \n",
       "1      46.320000 -0.009340  \n",
       "2      46.580002  0.024242  \n",
       "3      48.150002 -0.043392  \n",
       "4      48.509998 -0.019244  \n",
       "...          ...       ...  \n",
       "1688  104.550003  0.007026  \n",
       "1689  102.250000 -0.059302  \n",
       "1690  102.400002 -0.017923  \n",
       "1691  100.610001 -0.009440  \n",
       "1692   99.680000 -0.035578  \n",
       "\n",
       "[1693 rows x 8 columns]"
      ]
     },
     "execution_count": 16,
     "metadata": {},
     "output_type": "execute_result"
    }
   ],
   "source": [
    "data"
   ]
  },
  {
   "cell_type": "code",
   "execution_count": 17,
   "metadata": {},
   "outputs": [
    {
     "data": {
      "image/png": "[encoded data removed]",
      "text/plain": [
       "<Figure size 432x288 with 1 Axes>"
      ]
     },
     "metadata": {
      "needs_background": "light"
     },
     "output_type": "display_data"
    }
   ],
   "source": [
    "# visualizando apenas esse retorno\n",
    "\n",
    "data['RS GOL'].plot();"
   ]
  },
  {
   "cell_type": "code",
   "execution_count": 18,
   "metadata": {},
   "outputs": [
    {
     "data": {
      "text/plain": [
       "0.0011991216930401364"
      ]
     },
     "execution_count": 18,
     "metadata": {},
     "output_type": "execute_result"
    }
   ],
   "source": [
    "# checando a média diária de retorno\n",
    "\n",
    "data['RS GOL'].mean()"
   ]
  },
  {
   "cell_type": "markdown",
   "metadata": {},
   "source": [
    "## Taxa de Retorno Anual"
   ]
  },
  {
   "cell_type": "code",
   "execution_count": 19,
   "metadata": {},
   "outputs": [
    {
     "data": {
      "text/plain": [
       "29.498393648787356"
      ]
     },
     "execution_count": 19,
     "metadata": {},
     "output_type": "execute_result"
    }
   ],
   "source": [
    "(data['RS GOL'].mean() * 246 ) * 100"
   ]
  },
  {
   "cell_type": "code",
   "execution_count": 20,
   "metadata": {},
   "outputs": [],
   "source": [
    "data['RS CVC'] = (data['CVC'] / data['CVC'].shift(1)) -1\n",
    "data['RS WEG'] = (data['WEG'] / data['WEG'].shift(1)) -1\n",
    "data['RS MGLU'] = (data['MGLU'] / data['MGLU'].shift(1)) -1\n",
    "data['RS TOTS'] = (data['TOTS'] / data['TOTS'].shift(1)) -1\n",
    "data['RS BOVA'] = (data['BOVA'] / data['BOVA'].shift(1)) -1"
   ]
  },
  {
   "cell_type": "code",
   "execution_count": 21,
   "metadata": {},
   "outputs": [
    {
     "data": {
      "text/html": [
       "<div>\n",
       "<style scoped>\n",
       "    .dataframe tbody tr th:only-of-type {\n",
       "        vertical-align: middle;\n",
       "    }\n",
       "\n",
       "    .dataframe tbody tr th {\n",
       "        vertical-align: top;\n",
       "    }\n",
       "\n",
       "    .dataframe thead th {\n",
       "        text-align: right;\n",
       "    }\n",
       "</style>\n",
       "<table border=\"1\" class=\"dataframe\">\n",
       "  <thead>\n",
       "    <tr style=\"text-align: right;\">\n",
       "      <th></th>\n",
       "      <th>Date</th>\n",
       "      <th>GOL</th>\n",
       "      <th>CVC</th>\n",
       "      <th>WEG</th>\n",
       "      <th>MGLU</th>\n",
       "      <th>TOTS</th>\n",
       "      <th>BOVA</th>\n",
       "      <th>RS GOL</th>\n",
       "      <th>RS CVC</th>\n",
       "      <th>RS WEG</th>\n",
       "      <th>RS MGLU</th>\n",
       "      <th>RS TOTS</th>\n",
       "      <th>RS BOVA</th>\n",
       "    </tr>\n",
       "  </thead>\n",
       "  <tbody>\n",
       "    <tr>\n",
       "      <th>0</th>\n",
       "      <td>2015-01-02</td>\n",
       "      <td>14.990000</td>\n",
       "      <td>15.200000</td>\n",
       "      <td>5.923076</td>\n",
       "      <td>0.232812</td>\n",
       "      <td>11.910702</td>\n",
       "      <td>47.259998</td>\n",
       "      <td>NaN</td>\n",
       "      <td>NaN</td>\n",
       "      <td>NaN</td>\n",
       "      <td>NaN</td>\n",
       "      <td>NaN</td>\n",
       "      <td>NaN</td>\n",
       "    </tr>\n",
       "    <tr>\n",
       "      <th>1</th>\n",
       "      <td>2015-01-05</td>\n",
       "      <td>14.850000</td>\n",
       "      <td>15.000000</td>\n",
       "      <td>5.963461</td>\n",
       "      <td>0.237187</td>\n",
       "      <td>11.544731</td>\n",
       "      <td>46.320000</td>\n",
       "      <td>-0.009340</td>\n",
       "      <td>-0.013158</td>\n",
       "      <td>0.006818</td>\n",
       "      <td>0.018792</td>\n",
       "      <td>-0.030726</td>\n",
       "      <td>-0.019890</td>\n",
       "    </tr>\n",
       "    <tr>\n",
       "      <th>2</th>\n",
       "      <td>2015-01-06</td>\n",
       "      <td>15.210000</td>\n",
       "      <td>14.800000</td>\n",
       "      <td>5.875000</td>\n",
       "      <td>0.234062</td>\n",
       "      <td>10.822770</td>\n",
       "      <td>46.580002</td>\n",
       "      <td>0.024242</td>\n",
       "      <td>-0.013333</td>\n",
       "      <td>-0.014834</td>\n",
       "      <td>-0.013175</td>\n",
       "      <td>-0.062536</td>\n",
       "      <td>0.005613</td>\n",
       "    </tr>\n",
       "    <tr>\n",
       "      <th>3</th>\n",
       "      <td>2015-01-07</td>\n",
       "      <td>14.550000</td>\n",
       "      <td>14.670000</td>\n",
       "      <td>5.807692</td>\n",
       "      <td>0.241875</td>\n",
       "      <td>10.746248</td>\n",
       "      <td>48.150002</td>\n",
       "      <td>-0.043392</td>\n",
       "      <td>-0.008784</td>\n",
       "      <td>-0.011457</td>\n",
       "      <td>0.033380</td>\n",
       "      <td>-0.007070</td>\n",
       "      <td>0.033705</td>\n",
       "    </tr>\n",
       "    <tr>\n",
       "      <th>4</th>\n",
       "      <td>2015-01-08</td>\n",
       "      <td>14.270000</td>\n",
       "      <td>14.150000</td>\n",
       "      <td>5.905769</td>\n",
       "      <td>0.240000</td>\n",
       "      <td>10.995774</td>\n",
       "      <td>48.509998</td>\n",
       "      <td>-0.019244</td>\n",
       "      <td>-0.035447</td>\n",
       "      <td>0.016887</td>\n",
       "      <td>-0.007752</td>\n",
       "      <td>0.023220</td>\n",
       "      <td>0.007477</td>\n",
       "    </tr>\n",
       "    <tr>\n",
       "      <th>...</th>\n",
       "      <td>...</td>\n",
       "      <td>...</td>\n",
       "      <td>...</td>\n",
       "      <td>...</td>\n",
       "      <td>...</td>\n",
       "      <td>...</td>\n",
       "      <td>...</td>\n",
       "      <td>...</td>\n",
       "      <td>...</td>\n",
       "      <td>...</td>\n",
       "      <td>...</td>\n",
       "      <td>...</td>\n",
       "      <td>...</td>\n",
       "    </tr>\n",
       "    <tr>\n",
       "      <th>1688</th>\n",
       "      <td>2021-10-25</td>\n",
       "      <td>17.200001</td>\n",
       "      <td>18.150000</td>\n",
       "      <td>39.549999</td>\n",
       "      <td>12.340000</td>\n",
       "      <td>33.380001</td>\n",
       "      <td>104.550003</td>\n",
       "      <td>0.007026</td>\n",
       "      <td>0.061403</td>\n",
       "      <td>0.016971</td>\n",
       "      <td>-0.006441</td>\n",
       "      <td>0.047052</td>\n",
       "      <td>0.021695</td>\n",
       "    </tr>\n",
       "    <tr>\n",
       "      <th>1689</th>\n",
       "      <td>2021-10-26</td>\n",
       "      <td>16.180000</td>\n",
       "      <td>16.910000</td>\n",
       "      <td>39.660000</td>\n",
       "      <td>11.980000</td>\n",
       "      <td>33.400002</td>\n",
       "      <td>102.250000</td>\n",
       "      <td>-0.059302</td>\n",
       "      <td>-0.068320</td>\n",
       "      <td>0.002781</td>\n",
       "      <td>-0.029173</td>\n",
       "      <td>0.000599</td>\n",
       "      <td>-0.021999</td>\n",
       "    </tr>\n",
       "    <tr>\n",
       "      <th>1690</th>\n",
       "      <td>2021-10-27</td>\n",
       "      <td>15.890000</td>\n",
       "      <td>16.590000</td>\n",
       "      <td>39.200001</td>\n",
       "      <td>11.600000</td>\n",
       "      <td>33.200001</td>\n",
       "      <td>102.400002</td>\n",
       "      <td>-0.017923</td>\n",
       "      <td>-0.018924</td>\n",
       "      <td>-0.011599</td>\n",
       "      <td>-0.031719</td>\n",
       "      <td>-0.005988</td>\n",
       "      <td>0.001467</td>\n",
       "    </tr>\n",
       "    <tr>\n",
       "      <th>1691</th>\n",
       "      <td>2021-10-28</td>\n",
       "      <td>15.740000</td>\n",
       "      <td>16.530001</td>\n",
       "      <td>37.830002</td>\n",
       "      <td>11.150000</td>\n",
       "      <td>32.910000</td>\n",
       "      <td>100.610001</td>\n",
       "      <td>-0.009440</td>\n",
       "      <td>-0.003617</td>\n",
       "      <td>-0.034949</td>\n",
       "      <td>-0.038793</td>\n",
       "      <td>-0.008735</td>\n",
       "      <td>-0.017480</td>\n",
       "    </tr>\n",
       "    <tr>\n",
       "      <th>1692</th>\n",
       "      <td>2021-10-29</td>\n",
       "      <td>15.180000</td>\n",
       "      <td>15.970000</td>\n",
       "      <td>37.000000</td>\n",
       "      <td>10.810000</td>\n",
       "      <td>32.759998</td>\n",
       "      <td>99.680000</td>\n",
       "      <td>-0.035578</td>\n",
       "      <td>-0.033878</td>\n",
       "      <td>-0.021940</td>\n",
       "      <td>-0.030493</td>\n",
       "      <td>-0.004558</td>\n",
       "      <td>-0.009244</td>\n",
       "    </tr>\n",
       "  </tbody>\n",
       "</table>\n",
       "<p>1693 rows × 13 columns</p>\n",
       "</div>"
      ],
      "text/plain": [
       "            Date        GOL        CVC        WEG       MGLU       TOTS  \\\n",
       "0     2015-01-02  14.990000  15.200000   5.923076   0.232812  11.910702   \n",
       "1     2015-01-05  14.850000  15.000000   5.963461   0.237187  11.544731   \n",
       "2     2015-01-06  15.210000  14.800000   5.875000   0.234062  10.822770   \n",
       "3     2015-01-07  14.550000  14.670000   5.807692   0.241875  10.746248   \n",
       "4     2015-01-08  14.270000  14.150000   5.905769   0.240000  10.995774   \n",
       "...          ...        ...        ...        ...        ...        ...   \n",
       "1688  2021-10-25  17.200001  18.150000  39.549999  12.340000  33.380001   \n",
       "1689  2021-10-26  16.180000  16.910000  39.660000  11.980000  33.400002   \n",
       "1690  2021-10-27  15.890000  16.590000  39.200001  11.600000  33.200001   \n",
       "1691  2021-10-28  15.740000  16.530001  37.830002  11.150000  32.910000   \n",
       "1692  2021-10-29  15.180000  15.970000  37.000000  10.810000  32.759998   \n",
       "\n",
       "            BOVA    RS GOL    RS CVC    RS WEG   RS MGLU   RS TOTS   RS BOVA  \n",
       "0      47.259998       NaN       NaN       NaN       NaN       NaN       NaN  \n",
       "1      46.320000 -0.009340 -0.013158  0.006818  0.018792 -0.030726 -0.019890  \n",
       "2      46.580002  0.024242 -0.013333 -0.014834 -0.013175 -0.062536  0.005613  \n",
       "3      48.150002 -0.043392 -0.008784 -0.011457  0.033380 -0.007070  0.033705  \n",
       "4      48.509998 -0.019244 -0.035447  0.016887 -0.007752  0.023220  0.007477  \n",
       "...          ...       ...       ...       ...       ...       ...       ...  \n",
       "1688  104.550003  0.007026  0.061403  0.016971 -0.006441  0.047052  0.021695  \n",
       "1689  102.250000 -0.059302 -0.068320  0.002781 -0.029173  0.000599 -0.021999  \n",
       "1690  102.400002 -0.017923 -0.018924 -0.011599 -0.031719 -0.005988  0.001467  \n",
       "1691  100.610001 -0.009440 -0.003617 -0.034949 -0.038793 -0.008735 -0.017480  \n",
       "1692   99.680000 -0.035578 -0.033878 -0.021940 -0.030493 -0.004558 -0.009244  \n",
       "\n",
       "[1693 rows x 13 columns]"
      ]
     },
     "execution_count": 21,
     "metadata": {},
     "output_type": "execute_result"
    }
   ],
   "source": [
    "data"
   ]
  },
  {
   "cell_type": "code",
   "execution_count": 22,
   "metadata": {},
   "outputs": [
    {
     "data": {
      "text/plain": [
       "16.252532949641598"
      ]
     },
     "execution_count": 22,
     "metadata": {},
     "output_type": "execute_result"
    }
   ],
   "source": [
    "(data['RS CVC'].mean() * 246)* 100"
   ]
  },
  {
   "cell_type": "code",
   "execution_count": 23,
   "metadata": {},
   "outputs": [
    {
     "data": {
      "text/plain": [
       "32.77174601019925"
      ]
     },
     "execution_count": 23,
     "metadata": {},
     "output_type": "execute_result"
    }
   ],
   "source": [
    "(data['RS WEG'].mean() * 246)* 100"
   ]
  },
  {
   "cell_type": "code",
   "execution_count": 24,
   "metadata": {},
   "outputs": [
    {
     "data": {
      "text/plain": [
       "75.34316919262795"
      ]
     },
     "execution_count": 24,
     "metadata": {},
     "output_type": "execute_result"
    }
   ],
   "source": [
    "(data['RS MGLU'].mean() * 246)* 100"
   ]
  },
  {
   "cell_type": "code",
   "execution_count": 25,
   "metadata": {},
   "outputs": [
    {
     "data": {
      "text/plain": [
       "21.989491321971627"
      ]
     },
     "execution_count": 25,
     "metadata": {},
     "output_type": "execute_result"
    }
   ],
   "source": [
    "(data['RS TOTS'].mean() * 246)* 100"
   ]
  },
  {
   "cell_type": "code",
   "execution_count": 26,
   "metadata": {},
   "outputs": [
    {
     "data": {
      "text/plain": [
       "14.392225969529388"
      ]
     },
     "execution_count": 26,
     "metadata": {},
     "output_type": "execute_result"
    }
   ],
   "source": [
    "(data['RS BOVA'].mean() * 246)* 100"
   ]
  },
  {
   "cell_type": "markdown",
   "metadata": {},
   "source": [
    "## Taxa de Retorno Logarítmica"
   ]
  },
  {
   "cell_type": "code",
   "execution_count": 27,
   "metadata": {},
   "outputs": [
    {
     "data": {
      "text/plain": [
       "-2.9792290119110945"
      ]
     },
     "execution_count": 27,
     "metadata": {},
     "output_type": "execute_result"
    }
   ],
   "source": [
    "np.log(data['GOL'][len('data')-1] / data['GOL'][0]) * 100"
   ]
  },
  {
   "cell_type": "code",
   "execution_count": 28,
   "metadata": {},
   "outputs": [
    {
     "data": {
      "text/plain": [
       "-3.549081794831594"
      ]
     },
     "execution_count": 28,
     "metadata": {},
     "output_type": "execute_result"
    }
   ],
   "source": [
    "np.log(data['CVC'][len('data')-1] / data['CVC'][0]) * 100"
   ]
  },
  {
   "cell_type": "code",
   "execution_count": 29,
   "metadata": {},
   "outputs": [
    {
     "data": {
      "text/plain": [
       "-1.9672679762267362"
      ]
     },
     "execution_count": 29,
     "metadata": {},
     "output_type": "execute_result"
    }
   ],
   "source": [
    "np.log(data['WEG'][len('data')-1] / data['WEG'][0]) * 100"
   ]
  },
  {
   "cell_type": "code",
   "execution_count": 30,
   "metadata": {},
   "outputs": [
    {
     "data": {
      "text/plain": [
       "3.818976340774428"
      ]
     },
     "execution_count": 30,
     "metadata": {},
     "output_type": "execute_result"
    }
   ],
   "source": [
    "np.log(data['MGLU'][len('data')-1] / data['MGLU'][0]) * 100"
   ]
  },
  {
   "cell_type": "code",
   "execution_count": 31,
   "metadata": {},
   "outputs": [
    {
     "data": {
      "text/plain": [
       "-10.288060963365634"
      ]
     },
     "execution_count": 31,
     "metadata": {},
     "output_type": "execute_result"
    }
   ],
   "source": [
    "np.log(data['TOTS'][len('data')-1] / data['TOTS'][0]) * 100"
   ]
  },
  {
   "cell_type": "code",
   "execution_count": 32,
   "metadata": {},
   "outputs": [
    {
     "data": {
      "text/plain": [
       "1.8656933691075301"
      ]
     },
     "execution_count": 32,
     "metadata": {},
     "output_type": "execute_result"
    }
   ],
   "source": [
    "np.log(data['BOVA'][len('data')-1] / data['BOVA'][0]) * 100"
   ]
  },
  {
   "cell_type": "code",
   "execution_count": 33,
   "metadata": {},
   "outputs": [],
   "source": [
    "data['RL GOL'] = np.log(data['GOL'] / data['GOL'].shift(1))\n",
    "data['RL CVC'] = np.log(data['CVC'] / data['CVC'].shift(1))\n",
    "data['RL WEG'] = np.log(data['WEG'] / data['WEG'].shift(1))\n",
    "data['RL MGLU'] = np.log(data['MGLU'] / data['MGLU'].shift(1))\n",
    "data['RL TOTS'] = np.log(data['TOTS'] / data['TOTS'].shift(1))\n",
    "data['RL BOVA'] = np.log(data['BOVA'] / data['BOVA'].shift(1))"
   ]
  },
  {
   "cell_type": "code",
   "execution_count": 34,
   "metadata": {},
   "outputs": [
    {
     "data": {
      "text/html": [
       "<div>\n",
       "<style scoped>\n",
       "    .dataframe tbody tr th:only-of-type {\n",
       "        vertical-align: middle;\n",
       "    }\n",
       "\n",
       "    .dataframe tbody tr th {\n",
       "        vertical-align: top;\n",
       "    }\n",
       "\n",
       "    .dataframe thead th {\n",
       "        text-align: right;\n",
       "    }\n",
       "</style>\n",
       "<table border=\"1\" class=\"dataframe\">\n",
       "  <thead>\n",
       "    <tr style=\"text-align: right;\">\n",
       "      <th></th>\n",
       "      <th>Date</th>\n",
       "      <th>GOL</th>\n",
       "      <th>CVC</th>\n",
       "      <th>WEG</th>\n",
       "      <th>MGLU</th>\n",
       "      <th>TOTS</th>\n",
       "      <th>BOVA</th>\n",
       "      <th>RS GOL</th>\n",
       "      <th>RS CVC</th>\n",
       "      <th>RS WEG</th>\n",
       "      <th>RS MGLU</th>\n",
       "      <th>RS TOTS</th>\n",
       "      <th>RS BOVA</th>\n",
       "      <th>RL GOL</th>\n",
       "      <th>RL CVC</th>\n",
       "      <th>RL WEG</th>\n",
       "      <th>RL MGLU</th>\n",
       "      <th>RL TOTS</th>\n",
       "      <th>RL BOVA</th>\n",
       "    </tr>\n",
       "  </thead>\n",
       "  <tbody>\n",
       "    <tr>\n",
       "      <th>0</th>\n",
       "      <td>2015-01-02</td>\n",
       "      <td>14.990000</td>\n",
       "      <td>15.200000</td>\n",
       "      <td>5.923076</td>\n",
       "      <td>0.232812</td>\n",
       "      <td>11.910702</td>\n",
       "      <td>47.259998</td>\n",
       "      <td>NaN</td>\n",
       "      <td>NaN</td>\n",
       "      <td>NaN</td>\n",
       "      <td>NaN</td>\n",
       "      <td>NaN</td>\n",
       "      <td>NaN</td>\n",
       "      <td>NaN</td>\n",
       "      <td>NaN</td>\n",
       "      <td>NaN</td>\n",
       "      <td>NaN</td>\n",
       "      <td>NaN</td>\n",
       "      <td>NaN</td>\n",
       "    </tr>\n",
       "    <tr>\n",
       "      <th>1</th>\n",
       "      <td>2015-01-05</td>\n",
       "      <td>14.850000</td>\n",
       "      <td>15.000000</td>\n",
       "      <td>5.963461</td>\n",
       "      <td>0.237187</td>\n",
       "      <td>11.544731</td>\n",
       "      <td>46.320000</td>\n",
       "      <td>-0.009340</td>\n",
       "      <td>-0.013158</td>\n",
       "      <td>0.006818</td>\n",
       "      <td>0.018792</td>\n",
       "      <td>-0.030726</td>\n",
       "      <td>-0.019890</td>\n",
       "      <td>-0.009383</td>\n",
       "      <td>-0.013245</td>\n",
       "      <td>0.006795</td>\n",
       "      <td>0.018618</td>\n",
       "      <td>-0.031208</td>\n",
       "      <td>-0.020090</td>\n",
       "    </tr>\n",
       "    <tr>\n",
       "      <th>2</th>\n",
       "      <td>2015-01-06</td>\n",
       "      <td>15.210000</td>\n",
       "      <td>14.800000</td>\n",
       "      <td>5.875000</td>\n",
       "      <td>0.234062</td>\n",
       "      <td>10.822770</td>\n",
       "      <td>46.580002</td>\n",
       "      <td>0.024242</td>\n",
       "      <td>-0.013333</td>\n",
       "      <td>-0.014834</td>\n",
       "      <td>-0.013175</td>\n",
       "      <td>-0.062536</td>\n",
       "      <td>0.005613</td>\n",
       "      <td>0.023953</td>\n",
       "      <td>-0.013423</td>\n",
       "      <td>-0.014945</td>\n",
       "      <td>-0.013263</td>\n",
       "      <td>-0.064577</td>\n",
       "      <td>0.005597</td>\n",
       "    </tr>\n",
       "    <tr>\n",
       "      <th>3</th>\n",
       "      <td>2015-01-07</td>\n",
       "      <td>14.550000</td>\n",
       "      <td>14.670000</td>\n",
       "      <td>5.807692</td>\n",
       "      <td>0.241875</td>\n",
       "      <td>10.746248</td>\n",
       "      <td>48.150002</td>\n",
       "      <td>-0.043392</td>\n",
       "      <td>-0.008784</td>\n",
       "      <td>-0.011457</td>\n",
       "      <td>0.033380</td>\n",
       "      <td>-0.007070</td>\n",
       "      <td>0.033705</td>\n",
       "      <td>-0.044362</td>\n",
       "      <td>-0.008823</td>\n",
       "      <td>-0.011523</td>\n",
       "      <td>0.032835</td>\n",
       "      <td>-0.007096</td>\n",
       "      <td>0.033150</td>\n",
       "    </tr>\n",
       "    <tr>\n",
       "      <th>4</th>\n",
       "      <td>2015-01-08</td>\n",
       "      <td>14.270000</td>\n",
       "      <td>14.150000</td>\n",
       "      <td>5.905769</td>\n",
       "      <td>0.240000</td>\n",
       "      <td>10.995774</td>\n",
       "      <td>48.509998</td>\n",
       "      <td>-0.019244</td>\n",
       "      <td>-0.035447</td>\n",
       "      <td>0.016887</td>\n",
       "      <td>-0.007752</td>\n",
       "      <td>0.023220</td>\n",
       "      <td>0.007477</td>\n",
       "      <td>-0.019432</td>\n",
       "      <td>-0.036090</td>\n",
       "      <td>0.016746</td>\n",
       "      <td>-0.007782</td>\n",
       "      <td>0.022954</td>\n",
       "      <td>0.007449</td>\n",
       "    </tr>\n",
       "    <tr>\n",
       "      <th>...</th>\n",
       "      <td>...</td>\n",
       "      <td>...</td>\n",
       "      <td>...</td>\n",
       "      <td>...</td>\n",
       "      <td>...</td>\n",
       "      <td>...</td>\n",
       "      <td>...</td>\n",
       "      <td>...</td>\n",
       "      <td>...</td>\n",
       "      <td>...</td>\n",
       "      <td>...</td>\n",
       "      <td>...</td>\n",
       "      <td>...</td>\n",
       "      <td>...</td>\n",
       "      <td>...</td>\n",
       "      <td>...</td>\n",
       "      <td>...</td>\n",
       "      <td>...</td>\n",
       "      <td>...</td>\n",
       "    </tr>\n",
       "    <tr>\n",
       "      <th>1688</th>\n",
       "      <td>2021-10-25</td>\n",
       "      <td>17.200001</td>\n",
       "      <td>18.150000</td>\n",
       "      <td>39.549999</td>\n",
       "      <td>12.340000</td>\n",
       "      <td>33.380001</td>\n",
       "      <td>104.550003</td>\n",
       "      <td>0.007026</td>\n",
       "      <td>0.061403</td>\n",
       "      <td>0.016971</td>\n",
       "      <td>-0.006441</td>\n",
       "      <td>0.047052</td>\n",
       "      <td>0.021695</td>\n",
       "      <td>0.007001</td>\n",
       "      <td>0.059592</td>\n",
       "      <td>0.016829</td>\n",
       "      <td>-0.006462</td>\n",
       "      <td>0.045978</td>\n",
       "      <td>0.021463</td>\n",
       "    </tr>\n",
       "    <tr>\n",
       "      <th>1689</th>\n",
       "      <td>2021-10-26</td>\n",
       "      <td>16.180000</td>\n",
       "      <td>16.910000</td>\n",
       "      <td>39.660000</td>\n",
       "      <td>11.980000</td>\n",
       "      <td>33.400002</td>\n",
       "      <td>102.250000</td>\n",
       "      <td>-0.059302</td>\n",
       "      <td>-0.068320</td>\n",
       "      <td>0.002781</td>\n",
       "      <td>-0.029173</td>\n",
       "      <td>0.000599</td>\n",
       "      <td>-0.021999</td>\n",
       "      <td>-0.061133</td>\n",
       "      <td>-0.070765</td>\n",
       "      <td>0.002777</td>\n",
       "      <td>-0.029607</td>\n",
       "      <td>0.000599</td>\n",
       "      <td>-0.022245</td>\n",
       "    </tr>\n",
       "    <tr>\n",
       "      <th>1690</th>\n",
       "      <td>2021-10-27</td>\n",
       "      <td>15.890000</td>\n",
       "      <td>16.590000</td>\n",
       "      <td>39.200001</td>\n",
       "      <td>11.600000</td>\n",
       "      <td>33.200001</td>\n",
       "      <td>102.400002</td>\n",
       "      <td>-0.017923</td>\n",
       "      <td>-0.018924</td>\n",
       "      <td>-0.011599</td>\n",
       "      <td>-0.031719</td>\n",
       "      <td>-0.005988</td>\n",
       "      <td>0.001467</td>\n",
       "      <td>-0.018086</td>\n",
       "      <td>-0.019105</td>\n",
       "      <td>-0.011666</td>\n",
       "      <td>-0.032233</td>\n",
       "      <td>-0.006006</td>\n",
       "      <td>0.001466</td>\n",
       "    </tr>\n",
       "    <tr>\n",
       "      <th>1691</th>\n",
       "      <td>2021-10-28</td>\n",
       "      <td>15.740000</td>\n",
       "      <td>16.530001</td>\n",
       "      <td>37.830002</td>\n",
       "      <td>11.150000</td>\n",
       "      <td>32.910000</td>\n",
       "      <td>100.610001</td>\n",
       "      <td>-0.009440</td>\n",
       "      <td>-0.003617</td>\n",
       "      <td>-0.034949</td>\n",
       "      <td>-0.038793</td>\n",
       "      <td>-0.008735</td>\n",
       "      <td>-0.017480</td>\n",
       "      <td>-0.009485</td>\n",
       "      <td>-0.003623</td>\n",
       "      <td>-0.035574</td>\n",
       "      <td>-0.039566</td>\n",
       "      <td>-0.008773</td>\n",
       "      <td>-0.017635</td>\n",
       "    </tr>\n",
       "    <tr>\n",
       "      <th>1692</th>\n",
       "      <td>2021-10-29</td>\n",
       "      <td>15.180000</td>\n",
       "      <td>15.970000</td>\n",
       "      <td>37.000000</td>\n",
       "      <td>10.810000</td>\n",
       "      <td>32.759998</td>\n",
       "      <td>99.680000</td>\n",
       "      <td>-0.035578</td>\n",
       "      <td>-0.033878</td>\n",
       "      <td>-0.021940</td>\n",
       "      <td>-0.030493</td>\n",
       "      <td>-0.004558</td>\n",
       "      <td>-0.009244</td>\n",
       "      <td>-0.036226</td>\n",
       "      <td>-0.034465</td>\n",
       "      <td>-0.022185</td>\n",
       "      <td>-0.030968</td>\n",
       "      <td>-0.004568</td>\n",
       "      <td>-0.009287</td>\n",
       "    </tr>\n",
       "  </tbody>\n",
       "</table>\n",
       "<p>1693 rows × 19 columns</p>\n",
       "</div>"
      ],
      "text/plain": [
       "            Date        GOL        CVC        WEG       MGLU       TOTS  \\\n",
       "0     2015-01-02  14.990000  15.200000   5.923076   0.232812  11.910702   \n",
       "1     2015-01-05  14.850000  15.000000   5.963461   0.237187  11.544731   \n",
       "2     2015-01-06  15.210000  14.800000   5.875000   0.234062  10.822770   \n",
       "3     2015-01-07  14.550000  14.670000   5.807692   0.241875  10.746248   \n",
       "4     2015-01-08  14.270000  14.150000   5.905769   0.240000  10.995774   \n",
       "...          ...        ...        ...        ...        ...        ...   \n",
       "1688  2021-10-25  17.200001  18.150000  39.549999  12.340000  33.380001   \n",
       "1689  2021-10-26  16.180000  16.910000  39.660000  11.980000  33.400002   \n",
       "1690  2021-10-27  15.890000  16.590000  39.200001  11.600000  33.200001   \n",
       "1691  2021-10-28  15.740000  16.530001  37.830002  11.150000  32.910000   \n",
       "1692  2021-10-29  15.180000  15.970000  37.000000  10.810000  32.759998   \n",
       "\n",
       "            BOVA    RS GOL    RS CVC    RS WEG   RS MGLU   RS TOTS   RS BOVA  \\\n",
       "0      47.259998       NaN       NaN       NaN       NaN       NaN       NaN   \n",
       "1      46.320000 -0.009340 -0.013158  0.006818  0.018792 -0.030726 -0.019890   \n",
       "2      46.580002  0.024242 -0.013333 -0.014834 -0.013175 -0.062536  0.005613   \n",
       "3      48.150002 -0.043392 -0.008784 -0.011457  0.033380 -0.007070  0.033705   \n",
       "4      48.509998 -0.019244 -0.035447  0.016887 -0.007752  0.023220  0.007477   \n",
       "...          ...       ...       ...       ...       ...       ...       ...   \n",
       "1688  104.550003  0.007026  0.061403  0.016971 -0.006441  0.047052  0.021695   \n",
       "1689  102.250000 -0.059302 -0.068320  0.002781 -0.029173  0.000599 -0.021999   \n",
       "1690  102.400002 -0.017923 -0.018924 -0.011599 -0.031719 -0.005988  0.001467   \n",
       "1691  100.610001 -0.009440 -0.003617 -0.034949 -0.038793 -0.008735 -0.017480   \n",
       "1692   99.680000 -0.035578 -0.033878 -0.021940 -0.030493 -0.004558 -0.009244   \n",
       "\n",
       "        RL GOL    RL CVC    RL WEG   RL MGLU   RL TOTS   RL BOVA  \n",
       "0          NaN       NaN       NaN       NaN       NaN       NaN  \n",
       "1    -0.009383 -0.013245  0.006795  0.018618 -0.031208 -0.020090  \n",
       "2     0.023953 -0.013423 -0.014945 -0.013263 -0.064577  0.005597  \n",
       "3    -0.044362 -0.008823 -0.011523  0.032835 -0.007096  0.033150  \n",
       "4    -0.019432 -0.036090  0.016746 -0.007782  0.022954  0.007449  \n",
       "...        ...       ...       ...       ...       ...       ...  \n",
       "1688  0.007001  0.059592  0.016829 -0.006462  0.045978  0.021463  \n",
       "1689 -0.061133 -0.070765  0.002777 -0.029607  0.000599 -0.022245  \n",
       "1690 -0.018086 -0.019105 -0.011666 -0.032233 -0.006006  0.001466  \n",
       "1691 -0.009485 -0.003623 -0.035574 -0.039566 -0.008773 -0.017635  \n",
       "1692 -0.036226 -0.034465 -0.022185 -0.030968 -0.004568 -0.009287  \n",
       "\n",
       "[1693 rows x 19 columns]"
      ]
     },
     "execution_count": 34,
     "metadata": {},
     "output_type": "execute_result"
    }
   ],
   "source": [
    "data"
   ]
  },
  {
   "cell_type": "code",
   "execution_count": 35,
   "metadata": {},
   "outputs": [
    {
     "data": {
      "text/plain": [
       "0.18312599441690297"
      ]
     },
     "execution_count": 35,
     "metadata": {},
     "output_type": "execute_result"
    }
   ],
   "source": [
    "# verificando a taxa de retorno logarítmica acumulada do ano\n",
    "\n",
    "(data['RL GOL'].mean() * 246)* 100"
   ]
  },
  {
   "cell_type": "code",
   "execution_count": 36,
   "metadata": {},
   "outputs": [
    {
     "data": {
      "text/plain": [
       "0.718467769287726"
      ]
     },
     "execution_count": 36,
     "metadata": {},
     "output_type": "execute_result"
    }
   ],
   "source": [
    "(data['RL CVC'].mean() * 246)* 100"
   ]
  },
  {
   "cell_type": "code",
   "execution_count": 37,
   "metadata": {},
   "outputs": [
    {
     "data": {
      "text/plain": [
       "26.636362095830375"
      ]
     },
     "execution_count": 37,
     "metadata": {},
     "output_type": "execute_result"
    }
   ],
   "source": [
    "(data['RL WEG'].mean() * 246)* 100"
   ]
  },
  {
   "cell_type": "code",
   "execution_count": 38,
   "metadata": {},
   "outputs": [
    {
     "data": {
      "text/plain": [
       "14.710144362020932"
      ]
     },
     "execution_count": 38,
     "metadata": {},
     "output_type": "execute_result"
    }
   ],
   "source": [
    "(data['RL TOTS'].mean() * 246)* 100"
   ]
  },
  {
   "cell_type": "code",
   "execution_count": 39,
   "metadata": {},
   "outputs": [
    {
     "data": {
      "text/plain": [
       "10.850472941900252"
      ]
     },
     "execution_count": 39,
     "metadata": {},
     "output_type": "execute_result"
    }
   ],
   "source": [
    "(data['RL BOVA'].mean() * 246)* 100"
   ]
  },
  {
   "cell_type": "markdown",
   "metadata": {},
   "source": [
    "## Taxa de Retorno de Carteira de Ações"
   ]
  },
  {
   "cell_type": "code",
   "execution_count": 40,
   "metadata": {},
   "outputs": [],
   "source": [
    "# importando a base novamente para vir sem as novas colunas adicionadas recentemente\n",
    "\n",
    "dados = pd.read_csv('acoes.csv')"
   ]
  },
  {
   "cell_type": "code",
   "execution_count": 42,
   "metadata": {},
   "outputs": [],
   "source": [
    "# normalizando as ações para que todas iniciam com valor 1\n",
    "\n",
    "dados_normalizado = dados.copy()\n",
    "for i in dados_normalizado.columns[1:]:\n",
    "    dados_normalizado[i] = (dados_normalizado[i]/dados_normalizado[i][0])"
   ]
  },
  {
   "cell_type": "code",
   "execution_count": 43,
   "metadata": {},
   "outputs": [
    {
     "data": {
      "text/html": [
       "<div>\n",
       "<style scoped>\n",
       "    .dataframe tbody tr th:only-of-type {\n",
       "        vertical-align: middle;\n",
       "    }\n",
       "\n",
       "    .dataframe tbody tr th {\n",
       "        vertical-align: top;\n",
       "    }\n",
       "\n",
       "    .dataframe thead th {\n",
       "        text-align: right;\n",
       "    }\n",
       "</style>\n",
       "<table border=\"1\" class=\"dataframe\">\n",
       "  <thead>\n",
       "    <tr style=\"text-align: right;\">\n",
       "      <th></th>\n",
       "      <th>Date</th>\n",
       "      <th>GOL</th>\n",
       "      <th>CVC</th>\n",
       "      <th>WEG</th>\n",
       "      <th>MGLU</th>\n",
       "      <th>TOTS</th>\n",
       "      <th>BOVA</th>\n",
       "    </tr>\n",
       "  </thead>\n",
       "  <tbody>\n",
       "    <tr>\n",
       "      <th>0</th>\n",
       "      <td>2015-01-02</td>\n",
       "      <td>1.000000</td>\n",
       "      <td>1.000000</td>\n",
       "      <td>1.000000</td>\n",
       "      <td>1.000000</td>\n",
       "      <td>1.000000</td>\n",
       "      <td>1.000000</td>\n",
       "    </tr>\n",
       "    <tr>\n",
       "      <th>1</th>\n",
       "      <td>2015-01-05</td>\n",
       "      <td>0.990660</td>\n",
       "      <td>0.986842</td>\n",
       "      <td>1.006818</td>\n",
       "      <td>1.018792</td>\n",
       "      <td>0.969274</td>\n",
       "      <td>0.980110</td>\n",
       "    </tr>\n",
       "    <tr>\n",
       "      <th>2</th>\n",
       "      <td>2015-01-06</td>\n",
       "      <td>1.014676</td>\n",
       "      <td>0.973684</td>\n",
       "      <td>0.991883</td>\n",
       "      <td>1.005369</td>\n",
       "      <td>0.908659</td>\n",
       "      <td>0.985612</td>\n",
       "    </tr>\n",
       "    <tr>\n",
       "      <th>3</th>\n",
       "      <td>2015-01-07</td>\n",
       "      <td>0.970647</td>\n",
       "      <td>0.965132</td>\n",
       "      <td>0.980520</td>\n",
       "      <td>1.038928</td>\n",
       "      <td>0.902235</td>\n",
       "      <td>1.018832</td>\n",
       "    </tr>\n",
       "    <tr>\n",
       "      <th>4</th>\n",
       "      <td>2015-01-08</td>\n",
       "      <td>0.951968</td>\n",
       "      <td>0.930921</td>\n",
       "      <td>0.997078</td>\n",
       "      <td>1.030875</td>\n",
       "      <td>0.923184</td>\n",
       "      <td>1.026449</td>\n",
       "    </tr>\n",
       "    <tr>\n",
       "      <th>...</th>\n",
       "      <td>...</td>\n",
       "      <td>...</td>\n",
       "      <td>...</td>\n",
       "      <td>...</td>\n",
       "      <td>...</td>\n",
       "      <td>...</td>\n",
       "      <td>...</td>\n",
       "    </tr>\n",
       "    <tr>\n",
       "      <th>1688</th>\n",
       "      <td>2021-10-25</td>\n",
       "      <td>1.147432</td>\n",
       "      <td>1.194079</td>\n",
       "      <td>6.677273</td>\n",
       "      <td>53.004141</td>\n",
       "      <td>2.802522</td>\n",
       "      <td>2.212230</td>\n",
       "    </tr>\n",
       "    <tr>\n",
       "      <th>1689</th>\n",
       "      <td>2021-10-26</td>\n",
       "      <td>1.079386</td>\n",
       "      <td>1.112500</td>\n",
       "      <td>6.695845</td>\n",
       "      <td>51.457826</td>\n",
       "      <td>2.804201</td>\n",
       "      <td>2.163563</td>\n",
       "    </tr>\n",
       "    <tr>\n",
       "      <th>1690</th>\n",
       "      <td>2021-10-27</td>\n",
       "      <td>1.060040</td>\n",
       "      <td>1.091447</td>\n",
       "      <td>6.618183</td>\n",
       "      <td>49.825612</td>\n",
       "      <td>2.787409</td>\n",
       "      <td>2.166737</td>\n",
       "    </tr>\n",
       "    <tr>\n",
       "      <th>1691</th>\n",
       "      <td>2021-10-28</td>\n",
       "      <td>1.050033</td>\n",
       "      <td>1.087500</td>\n",
       "      <td>6.386884</td>\n",
       "      <td>47.892718</td>\n",
       "      <td>2.763061</td>\n",
       "      <td>2.128862</td>\n",
       "    </tr>\n",
       "    <tr>\n",
       "      <th>1692</th>\n",
       "      <td>2021-10-29</td>\n",
       "      <td>1.012675</td>\n",
       "      <td>1.050658</td>\n",
       "      <td>6.246754</td>\n",
       "      <td>46.432316</td>\n",
       "      <td>2.750468</td>\n",
       "      <td>2.109183</td>\n",
       "    </tr>\n",
       "  </tbody>\n",
       "</table>\n",
       "<p>1693 rows × 7 columns</p>\n",
       "</div>"
      ],
      "text/plain": [
       "            Date       GOL       CVC       WEG       MGLU      TOTS      BOVA\n",
       "0     2015-01-02  1.000000  1.000000  1.000000   1.000000  1.000000  1.000000\n",
       "1     2015-01-05  0.990660  0.986842  1.006818   1.018792  0.969274  0.980110\n",
       "2     2015-01-06  1.014676  0.973684  0.991883   1.005369  0.908659  0.985612\n",
       "3     2015-01-07  0.970647  0.965132  0.980520   1.038928  0.902235  1.018832\n",
       "4     2015-01-08  0.951968  0.930921  0.997078   1.030875  0.923184  1.026449\n",
       "...          ...       ...       ...       ...        ...       ...       ...\n",
       "1688  2021-10-25  1.147432  1.194079  6.677273  53.004141  2.802522  2.212230\n",
       "1689  2021-10-26  1.079386  1.112500  6.695845  51.457826  2.804201  2.163563\n",
       "1690  2021-10-27  1.060040  1.091447  6.618183  49.825612  2.787409  2.166737\n",
       "1691  2021-10-28  1.050033  1.087500  6.386884  47.892718  2.763061  2.128862\n",
       "1692  2021-10-29  1.012675  1.050658  6.246754  46.432316  2.750468  2.109183\n",
       "\n",
       "[1693 rows x 7 columns]"
      ]
     },
     "execution_count": 43,
     "metadata": {},
     "output_type": "execute_result"
    }
   ],
   "source": [
    "dados_normalizado"
   ]
  },
  {
   "cell_type": "code",
   "execution_count": 45,
   "metadata": {},
   "outputs": [
    {
     "data": {
      "image/png": "[encoded data removed]",
      "text/plain": [
       "<Figure size 1080x504 with 1 Axes>"
      ]
     },
     "metadata": {
      "needs_background": "light"
     },
     "output_type": "display_data"
    }
   ],
   "source": [
    "#visualizando graficamente\n",
    "\n",
    "dados_normalizado.plot(x = 'Date', figsize =(15,7));"
   ]
  },
  {
   "cell_type": "code",
   "execution_count": 46,
   "metadata": {},
   "outputs": [],
   "source": [
    "#apagando a coluna de data dos dados normalizados\n",
    "\n",
    "dados_normalizado.drop(labels=('Date'), axis=1, inplace=True)"
   ]
  },
  {
   "cell_type": "code",
   "execution_count": 47,
   "metadata": {},
   "outputs": [
    {
     "data": {
      "text/html": [
       "<div>\n",
       "<style scoped>\n",
       "    .dataframe tbody tr th:only-of-type {\n",
       "        vertical-align: middle;\n",
       "    }\n",
       "\n",
       "    .dataframe tbody tr th {\n",
       "        vertical-align: top;\n",
       "    }\n",
       "\n",
       "    .dataframe thead th {\n",
       "        text-align: right;\n",
       "    }\n",
       "</style>\n",
       "<table border=\"1\" class=\"dataframe\">\n",
       "  <thead>\n",
       "    <tr style=\"text-align: right;\">\n",
       "      <th></th>\n",
       "      <th>GOL</th>\n",
       "      <th>CVC</th>\n",
       "      <th>WEG</th>\n",
       "      <th>MGLU</th>\n",
       "      <th>TOTS</th>\n",
       "      <th>BOVA</th>\n",
       "    </tr>\n",
       "  </thead>\n",
       "  <tbody>\n",
       "    <tr>\n",
       "      <th>0</th>\n",
       "      <td>1.000000</td>\n",
       "      <td>1.000000</td>\n",
       "      <td>1.000000</td>\n",
       "      <td>1.000000</td>\n",
       "      <td>1.000000</td>\n",
       "      <td>1.000000</td>\n",
       "    </tr>\n",
       "    <tr>\n",
       "      <th>1</th>\n",
       "      <td>0.990660</td>\n",
       "      <td>0.986842</td>\n",
       "      <td>1.006818</td>\n",
       "      <td>1.018792</td>\n",
       "      <td>0.969274</td>\n",
       "      <td>0.980110</td>\n",
       "    </tr>\n",
       "    <tr>\n",
       "      <th>2</th>\n",
       "      <td>1.014676</td>\n",
       "      <td>0.973684</td>\n",
       "      <td>0.991883</td>\n",
       "      <td>1.005369</td>\n",
       "      <td>0.908659</td>\n",
       "      <td>0.985612</td>\n",
       "    </tr>\n",
       "    <tr>\n",
       "      <th>3</th>\n",
       "      <td>0.970647</td>\n",
       "      <td>0.965132</td>\n",
       "      <td>0.980520</td>\n",
       "      <td>1.038928</td>\n",
       "      <td>0.902235</td>\n",
       "      <td>1.018832</td>\n",
       "    </tr>\n",
       "    <tr>\n",
       "      <th>4</th>\n",
       "      <td>0.951968</td>\n",
       "      <td>0.930921</td>\n",
       "      <td>0.997078</td>\n",
       "      <td>1.030875</td>\n",
       "      <td>0.923184</td>\n",
       "      <td>1.026449</td>\n",
       "    </tr>\n",
       "    <tr>\n",
       "      <th>...</th>\n",
       "      <td>...</td>\n",
       "      <td>...</td>\n",
       "      <td>...</td>\n",
       "      <td>...</td>\n",
       "      <td>...</td>\n",
       "      <td>...</td>\n",
       "    </tr>\n",
       "    <tr>\n",
       "      <th>1688</th>\n",
       "      <td>1.147432</td>\n",
       "      <td>1.194079</td>\n",
       "      <td>6.677273</td>\n",
       "      <td>53.004141</td>\n",
       "      <td>2.802522</td>\n",
       "      <td>2.212230</td>\n",
       "    </tr>\n",
       "    <tr>\n",
       "      <th>1689</th>\n",
       "      <td>1.079386</td>\n",
       "      <td>1.112500</td>\n",
       "      <td>6.695845</td>\n",
       "      <td>51.457826</td>\n",
       "      <td>2.804201</td>\n",
       "      <td>2.163563</td>\n",
       "    </tr>\n",
       "    <tr>\n",
       "      <th>1690</th>\n",
       "      <td>1.060040</td>\n",
       "      <td>1.091447</td>\n",
       "      <td>6.618183</td>\n",
       "      <td>49.825612</td>\n",
       "      <td>2.787409</td>\n",
       "      <td>2.166737</td>\n",
       "    </tr>\n",
       "    <tr>\n",
       "      <th>1691</th>\n",
       "      <td>1.050033</td>\n",
       "      <td>1.087500</td>\n",
       "      <td>6.386884</td>\n",
       "      <td>47.892718</td>\n",
       "      <td>2.763061</td>\n",
       "      <td>2.128862</td>\n",
       "    </tr>\n",
       "    <tr>\n",
       "      <th>1692</th>\n",
       "      <td>1.012675</td>\n",
       "      <td>1.050658</td>\n",
       "      <td>6.246754</td>\n",
       "      <td>46.432316</td>\n",
       "      <td>2.750468</td>\n",
       "      <td>2.109183</td>\n",
       "    </tr>\n",
       "  </tbody>\n",
       "</table>\n",
       "<p>1693 rows × 6 columns</p>\n",
       "</div>"
      ],
      "text/plain": [
       "           GOL       CVC       WEG       MGLU      TOTS      BOVA\n",
       "0     1.000000  1.000000  1.000000   1.000000  1.000000  1.000000\n",
       "1     0.990660  0.986842  1.006818   1.018792  0.969274  0.980110\n",
       "2     1.014676  0.973684  0.991883   1.005369  0.908659  0.985612\n",
       "3     0.970647  0.965132  0.980520   1.038928  0.902235  1.018832\n",
       "4     0.951968  0.930921  0.997078   1.030875  0.923184  1.026449\n",
       "...        ...       ...       ...        ...       ...       ...\n",
       "1688  1.147432  1.194079  6.677273  53.004141  2.802522  2.212230\n",
       "1689  1.079386  1.112500  6.695845  51.457826  2.804201  2.163563\n",
       "1690  1.060040  1.091447  6.618183  49.825612  2.787409  2.166737\n",
       "1691  1.050033  1.087500  6.386884  47.892718  2.763061  2.128862\n",
       "1692  1.012675  1.050658  6.246754  46.432316  2.750468  2.109183\n",
       "\n",
       "[1693 rows x 6 columns]"
      ]
     },
     "execution_count": 47,
     "metadata": {},
     "output_type": "execute_result"
    }
   ],
   "source": [
    "dados_normalizado"
   ]
  },
  {
   "cell_type": "code",
   "execution_count": 48,
   "metadata": {},
   "outputs": [],
   "source": [
    "#cálculo da taxa de retorno simples em cima das ações\n",
    "\n",
    "retorno_carteira = (dados_normalizado / dados_normalizado.shift(1)) -1"
   ]
  },
  {
   "cell_type": "code",
   "execution_count": 49,
   "metadata": {},
   "outputs": [
    {
     "data": {
      "text/html": [
       "<div>\n",
       "<style scoped>\n",
       "    .dataframe tbody tr th:only-of-type {\n",
       "        vertical-align: middle;\n",
       "    }\n",
       "\n",
       "    .dataframe tbody tr th {\n",
       "        vertical-align: top;\n",
       "    }\n",
       "\n",
       "    .dataframe thead th {\n",
       "        text-align: right;\n",
       "    }\n",
       "</style>\n",
       "<table border=\"1\" class=\"dataframe\">\n",
       "  <thead>\n",
       "    <tr style=\"text-align: right;\">\n",
       "      <th></th>\n",
       "      <th>GOL</th>\n",
       "      <th>CVC</th>\n",
       "      <th>WEG</th>\n",
       "      <th>MGLU</th>\n",
       "      <th>TOTS</th>\n",
       "      <th>BOVA</th>\n",
       "    </tr>\n",
       "  </thead>\n",
       "  <tbody>\n",
       "    <tr>\n",
       "      <th>0</th>\n",
       "      <td>NaN</td>\n",
       "      <td>NaN</td>\n",
       "      <td>NaN</td>\n",
       "      <td>NaN</td>\n",
       "      <td>NaN</td>\n",
       "      <td>NaN</td>\n",
       "    </tr>\n",
       "    <tr>\n",
       "      <th>1</th>\n",
       "      <td>-0.009340</td>\n",
       "      <td>-0.013158</td>\n",
       "      <td>0.006818</td>\n",
       "      <td>0.018792</td>\n",
       "      <td>-0.030726</td>\n",
       "      <td>-0.019890</td>\n",
       "    </tr>\n",
       "    <tr>\n",
       "      <th>2</th>\n",
       "      <td>0.024242</td>\n",
       "      <td>-0.013333</td>\n",
       "      <td>-0.014834</td>\n",
       "      <td>-0.013175</td>\n",
       "      <td>-0.062536</td>\n",
       "      <td>0.005613</td>\n",
       "    </tr>\n",
       "    <tr>\n",
       "      <th>3</th>\n",
       "      <td>-0.043392</td>\n",
       "      <td>-0.008784</td>\n",
       "      <td>-0.011457</td>\n",
       "      <td>0.033380</td>\n",
       "      <td>-0.007070</td>\n",
       "      <td>0.033705</td>\n",
       "    </tr>\n",
       "    <tr>\n",
       "      <th>4</th>\n",
       "      <td>-0.019244</td>\n",
       "      <td>-0.035447</td>\n",
       "      <td>0.016887</td>\n",
       "      <td>-0.007752</td>\n",
       "      <td>0.023220</td>\n",
       "      <td>0.007477</td>\n",
       "    </tr>\n",
       "    <tr>\n",
       "      <th>...</th>\n",
       "      <td>...</td>\n",
       "      <td>...</td>\n",
       "      <td>...</td>\n",
       "      <td>...</td>\n",
       "      <td>...</td>\n",
       "      <td>...</td>\n",
       "    </tr>\n",
       "    <tr>\n",
       "      <th>1688</th>\n",
       "      <td>0.007026</td>\n",
       "      <td>0.061403</td>\n",
       "      <td>0.016971</td>\n",
       "      <td>-0.006441</td>\n",
       "      <td>0.047052</td>\n",
       "      <td>0.021695</td>\n",
       "    </tr>\n",
       "    <tr>\n",
       "      <th>1689</th>\n",
       "      <td>-0.059302</td>\n",
       "      <td>-0.068320</td>\n",
       "      <td>0.002781</td>\n",
       "      <td>-0.029173</td>\n",
       "      <td>0.000599</td>\n",
       "      <td>-0.021999</td>\n",
       "    </tr>\n",
       "    <tr>\n",
       "      <th>1690</th>\n",
       "      <td>-0.017923</td>\n",
       "      <td>-0.018924</td>\n",
       "      <td>-0.011599</td>\n",
       "      <td>-0.031719</td>\n",
       "      <td>-0.005988</td>\n",
       "      <td>0.001467</td>\n",
       "    </tr>\n",
       "    <tr>\n",
       "      <th>1691</th>\n",
       "      <td>-0.009440</td>\n",
       "      <td>-0.003617</td>\n",
       "      <td>-0.034949</td>\n",
       "      <td>-0.038793</td>\n",
       "      <td>-0.008735</td>\n",
       "      <td>-0.017480</td>\n",
       "    </tr>\n",
       "    <tr>\n",
       "      <th>1692</th>\n",
       "      <td>-0.035578</td>\n",
       "      <td>-0.033878</td>\n",
       "      <td>-0.021940</td>\n",
       "      <td>-0.030493</td>\n",
       "      <td>-0.004558</td>\n",
       "      <td>-0.009244</td>\n",
       "    </tr>\n",
       "  </tbody>\n",
       "</table>\n",
       "<p>1693 rows × 6 columns</p>\n",
       "</div>"
      ],
      "text/plain": [
       "           GOL       CVC       WEG      MGLU      TOTS      BOVA\n",
       "0          NaN       NaN       NaN       NaN       NaN       NaN\n",
       "1    -0.009340 -0.013158  0.006818  0.018792 -0.030726 -0.019890\n",
       "2     0.024242 -0.013333 -0.014834 -0.013175 -0.062536  0.005613\n",
       "3    -0.043392 -0.008784 -0.011457  0.033380 -0.007070  0.033705\n",
       "4    -0.019244 -0.035447  0.016887 -0.007752  0.023220  0.007477\n",
       "...        ...       ...       ...       ...       ...       ...\n",
       "1688  0.007026  0.061403  0.016971 -0.006441  0.047052  0.021695\n",
       "1689 -0.059302 -0.068320  0.002781 -0.029173  0.000599 -0.021999\n",
       "1690 -0.017923 -0.018924 -0.011599 -0.031719 -0.005988  0.001467\n",
       "1691 -0.009440 -0.003617 -0.034949 -0.038793 -0.008735 -0.017480\n",
       "1692 -0.035578 -0.033878 -0.021940 -0.030493 -0.004558 -0.009244\n",
       "\n",
       "[1693 rows x 6 columns]"
      ]
     },
     "execution_count": 49,
     "metadata": {},
     "output_type": "execute_result"
    }
   ],
   "source": [
    "retorno_carteira"
   ]
  },
  {
   "cell_type": "code",
   "execution_count": 50,
   "metadata": {},
   "outputs": [
    {
     "data": {
      "text/plain": [
       "GOL     0.294984\n",
       "CVC     0.162525\n",
       "WEG     0.327717\n",
       "MGLU    0.753432\n",
       "TOTS    0.219895\n",
       "BOVA    0.143922\n",
       "dtype: float64"
      ]
     },
     "execution_count": 50,
     "metadata": {},
     "output_type": "execute_result"
    }
   ],
   "source": [
    "retorno_anual = retorno_carteira.mean() * 246\n",
    "retorno_anual"
   ]
  },
  {
   "cell_type": "code",
   "execution_count": 51,
   "metadata": {},
   "outputs": [
    {
     "data": {
      "text/plain": [
       "GOL     29.498394\n",
       "CVC     16.252533\n",
       "WEG     32.771746\n",
       "MGLU    75.343169\n",
       "TOTS    21.989491\n",
       "BOVA    14.392226\n",
       "dtype: float64"
      ]
     },
     "execution_count": 51,
     "metadata": {},
     "output_type": "execute_result"
    }
   ],
   "source": [
    "# retorno anual em percentuais\n",
    "\n",
    "retorno_anual = retorno_anual * 100\n",
    "retorno_anual"
   ]
  },
  {
   "cell_type": "code",
   "execution_count": 52,
   "metadata": {},
   "outputs": [],
   "source": [
    "# atribuindo pesos as ações dentro da carteira - nesse exemplo será o mesmo peso para todas,\n",
    "# mas devemos nos atentar sempre as ações que temos em maior quantidade.\n",
    "\n",
    "peso_carteira1 = np.array([0.2,0.2,0.2,0.2,0.2, 0.0])"
   ]
  },
  {
   "cell_type": "code",
   "execution_count": 53,
   "metadata": {},
   "outputs": [
    {
     "data": {
      "text/plain": [
       "1.0"
      ]
     },
     "execution_count": 53,
     "metadata": {},
     "output_type": "execute_result"
    }
   ],
   "source": [
    "peso_carteira1.sum()"
   ]
  },
  {
   "cell_type": "code",
   "execution_count": 54,
   "metadata": {},
   "outputs": [
    {
     "data": {
      "text/plain": [
       "35.171066624645576"
      ]
     },
     "execution_count": 54,
     "metadata": {},
     "output_type": "execute_result"
    }
   ],
   "source": [
    "np.dot(retorno_anual, peso_carteira1)"
   ]
  },
  {
   "cell_type": "code",
   "execution_count": 55,
   "metadata": {},
   "outputs": [],
   "source": [
    "# fazendo teste com outro peso de carteira\n",
    "\n",
    "peso_carteira2 = np.array([0.1,0.2,0.2,0.4,0.1,0.0])"
   ]
  },
  {
   "cell_type": "code",
   "execution_count": 56,
   "metadata": {},
   "outputs": [
    {
     "data": {
      "text/plain": [
       "45.09091196609526"
      ]
     },
     "execution_count": 56,
     "metadata": {},
     "output_type": "execute_result"
    }
   ],
   "source": [
    "np.dot(retorno_anual, peso_carteira2)"
   ]
  },
  {
   "cell_type": "markdown",
   "metadata": {},
   "source": [
    "## Gráfico Carteira x BOVA"
   ]
  },
  {
   "cell_type": "code",
   "execution_count": 57,
   "metadata": {},
   "outputs": [],
   "source": [
    "# importando novamente os dados para termos uma base limpa\n",
    "\n",
    "acao = pd.read_csv('acoes.csv')"
   ]
  },
  {
   "cell_type": "code",
   "execution_count": null,
   "metadata": {},
   "outputs": [],
   "source": []
  }
 ],
 "metadata": {
  "kernelspec": {
   "display_name": "Python 3",
   "language": "python",
   "name": "python3"
  },
  "language_info": {
   "codemirror_mode": {
    "name": "ipython",
    "version": 3
   },
   "file_extension": ".py",
   "mimetype": "text/x-python",
   "name": "python",
   "nbconvert_exporter": "python",
   "pygments_lexer": "ipython3",
   "version": "3.8.5"
  }
 },
 "nbformat": 4,
 "nbformat_minor": 4
}
